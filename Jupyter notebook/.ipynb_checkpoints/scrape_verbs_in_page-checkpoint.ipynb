{
 "cells": [
  {
   "cell_type": "code",
   "execution_count": 80,
   "metadata": {},
   "outputs": [],
   "source": [
    "import bs4\n",
    "from bs4 import BeautifulSoup\n",
    "from urllib.parse import urljoin\n",
    "import requests\n",
    "from urllib.request import Request, urlopen\n",
    "import unicodedata\n",
    "import re "
   ]
  },
  {
   "cell_type": "code",
   "execution_count": 81,
   "metadata": {},
   "outputs": [],
   "source": [
    "def get_soup(url):\n",
    "    req = Request(url, headers={'User-Agent': 'Mozilla/5.0 (Macintosh; Intel Mac OS X 10_9_3)'\n",
    "                                             ' AppleWebKit/537.36 (KHTML, like Gecko)'\n",
    "                                             ' Chrome/35.0.1916.47 Safari/537.36'})\n",
    "    web_byte = urlopen(req).read()\n",
    "    soup = BeautifulSoup(web_byte, 'html.parser')\n",
    "    return soup"
   ]
  },
  {
   "cell_type": "code",
   "execution_count": 82,
   "metadata": {},
   "outputs": [],
   "source": [
    "url=\"https://www.conjugacao.com.br/verbos-populares/\""
   ]
  },
  {
   "cell_type": "code",
   "execution_count": 83,
   "metadata": {},
   "outputs": [
    {
     "data": {
      "text/plain": [
       "<!DOCTYPE html>\n",
       "<html lang=\"pt-br\"><head><meta charset=\"utf-8\"/><meta content=\"IE=edge\" http-equiv=\"X-UA-Compatible\"/><meta content=\"width=device-width, initial-scale=1\" name=\"viewport\"><title>Lista de Verbos (5000 verbos em Português) - Conjugação de Verbos</title><meta content=\"Lista com os verbos mais usados da lingua portuguesa. Lista de verbos e suas respectivas conjugações em Português. Exemplos com os 5000 verbos mais usados.\" name=\"description\"/><link href=\"https://static.conjugacao.com.br/assets/style_034.css\" rel=\"stylesheet\" type=\"text/css\"/><link href=\"/rss.php\" rel=\"alternate\" title=\"RSS feed do Conjugação de Verbos\" type=\"application/rss+xml\"/><link href=\"https://fonts.googleapis.com/css?family=Titillium+Web:400,700\" rel=\"stylesheet\" type=\"text/css\"/><link href=\"https://www.conjugacao.com.br/verbos-populares/\" rel=\"canonical\"/><link href=\"/manifest.json\" rel=\"manifest\"/><meta content=\"#52B243\" name=\"msapplication-TileColor\"/><meta content=\"https://static.conjugacao.com.br/mstile-144x144.png\" name=\"msapplication-TileImage\"/><meta content=\"#ffffff\" name=\"theme-color\"/><meta content=\"1610599232545800\" property=\"fb:app_id\"><meta content=\"Lista de Verbos (5000 verbos em Português) - Conjugação de Verbos\" property=\"og:title\"><meta content=\"https://www.conjugacao.com.br/verbos-populares/\" property=\"og:url\"><meta content=\"https://static.conjugacao.com.br/assets/img/conjugacao_logo.png\" property=\"og:image\"/><meta content=\"Conjugação\" property=\"og:site_name\"/><meta content=\"Lista com os verbos mais usados da lingua portuguesa. Lista de verbos e suas respectivas conjugações em Português. Exemplos com os 5000 verbos mais usados.\" property=\"og:description\"/><meta content=\"article\" property=\"og:type\"/><script async=\"async\" src=\"https://www.googletagservices.com/tag/js/gpt.js\"></script><script>var googletag=window.googletag||{cmd:[]};if(window.localStorage&&!window.localStorage.getItem(\"sg_gpt_event\")){window.localStorage.setItem(\"sg_gpt_event\",Math.floor((Math.random()*100)+1)<=10?1:0);}</script> <script>(function(i,s,o,g,r,a,m){i['GoogleAnalyticsObject']=r;i[r]=i[r]||function(){(i[r].q=i[r].q||[]).push(arguments)},i[r].l=1*new Date();a=s.createElement(o),m=s.getElementsByTagName(o)[0];a.async=1;a.src=g;m.parentNode.insertBefore(a,m)})(window,document,'script','https://www.google-analytics.com/analytics.js','ga');ga('create','UA-10605777-37','auto');ga('send','pageview');</script> </meta></meta></meta></meta></head><body> <script>var _comscore=_comscore||[];_comscore.push({c1:\"2\",c2:\"21145335\"});_comscore.push({c1:\"8\",c2:\"21145335\",c3:\"1111\"});(function(){if(!(\"localStorage\"in window)){window.localStorage={_data:{},setItem:function(id,val){return this._data[id]=String(val)},getItem:function(id){return this._data.hasOwnProperty(id)?this._data[id]:null}}}\n",
       "var loadScript=function(){if(eu==\"0\"){var s=document.createElement(\"script\"),el=document.getElementsByTagName(\"script\")[0];s.async=true;s.src=\"https://sb.scorecardresearch.com/beacon.js\";el.parentNode.insertBefore(s,el);}};var eu=localStorage.getItem(\"sg_eu\");if(eu===null){var request=new XMLHttpRequest();request.open(\"GET\",window.location.protocol+\"//eu.7gra.us/\",true);request.onreadystatechange=function(){if(this.readyState===4&&this.status===200){eu=this.responseText;localStorage.setItem(\"sg_eu\",eu)\n",
       "loadScript();}};request.send();}\n",
       "loadScript();})();</script><div class=\"container\" id=\"wrapper\"><div class=\"row\" id=\"header\"><div class=\"col-xs-12 col-sm-6\"><div id=\"logo\"><a href=\"/\">conjugação<span>.com.br</span></a></div><div id=\"slogan\"><a href=\"/\">Conjugação de Verbos em Português</a></div></div><div class=\"col-xs-12 col-sm-6\" id=\"search\"><form action=\"/search.php\" id=\"searchForm\" method=\"get\"> <input autofocus=\"\" id=\"q\" name=\"q\" type=\"text\" value=\"\"/> <input id=\"botao\" type=\"submit\" value=\"conjugar\"/></form> <script type=\"text/javascript\">var textbox=document.getElementById('q');textbox.focus();textbox.select();</script> </div></div><div class=\"row\" id=\"page\"><div class=\"col-xs-12 col-sm-9 col-md-10\" id=\"content\"><h1>Lista de Verbos</h1><p>Lista com os 5000 verbos mais usados em Português e suas respectivas conjugações.</p><div class=\"wrapper\"><ul><li><a href=\"/verbo-ir/\" title=\"Conjugação do verbo ir\">ir</a></li><li><a href=\"/verbo-ser/\" title=\"Conjugação do verbo ser\">ser</a></li><li><a href=\"/verbo-fazer/\" title=\"Conjugação do verbo fazer\">fazer</a></li><li><a href=\"/verbo-amar/\" title=\"Conjugação do verbo amar\">amar</a></li><li><a href=\"/verbo-estar/\" title=\"Conjugação do verbo estar\">estar</a></li><li><a href=\"/verbo-ver/\" title=\"Conjugação do verbo ver\">ver</a></li><li><a href=\"/verbo-vir/\" title=\"Conjugação do verbo vir\">vir</a></li><li><a href=\"/verbo-ter/\" title=\"Conjugação do verbo ter\">ter</a></li><li><a href=\"/verbo-poder/\" title=\"Conjugação do verbo poder\">poder</a></li><li><a href=\"/verbo-dar/\" title=\"Conjugação do verbo dar\">dar</a></li><li><a href=\"/verbo-haver/\" title=\"Conjugação do verbo haver\">haver</a></li><li><a href=\"/verbo-partir/\" title=\"Conjugação do verbo partir\">partir</a></li><li><a href=\"/verbo-comer/\" title=\"Conjugação do verbo comer\">comer</a></li><li><a href=\"/verbo-por/\" title=\"Conjugação do verbo pôr\">pôr</a></li><li><a href=\"/verbo-estudar/\" title=\"Conjugação do verbo estudar\">estudar</a></li><li><a href=\"/verbo-falar/\" title=\"Conjugação do verbo falar\">falar</a></li><li><a href=\"/verbo-cantar/\" title=\"Conjugação do verbo cantar\">cantar</a></li><li><a href=\"/verbo-dizer/\" title=\"Conjugação do verbo dizer\">dizer</a></li><li><a href=\"/verbo-querer/\" title=\"Conjugação do verbo querer\">querer</a></li><li><a href=\"/verbo-sair/\" title=\"Conjugação do verbo sair\">sair</a></li><li><a href=\"/verbo-trazer/\" title=\"Conjugação do verbo trazer\">trazer</a></li><li><a href=\"/verbo-rir/\" title=\"Conjugação do verbo rir\">rir</a></li><li><a href=\"/verbo-ler/\" title=\"Conjugação do verbo ler\">ler</a></li><li><a href=\"/verbo-vender/\" title=\"Conjugação do verbo vender\">vender</a></li><li><a href=\"/verbo-correr/\" title=\"Conjugação do verbo correr\">correr</a></li><li><a href=\"/verbo-beber/\" title=\"Conjugação do verbo beber\">beber</a></li><li><a href=\"/verbo-saber/\" title=\"Conjugação do verbo saber\">saber</a></li><li><a href=\"/verbo-dormir/\" title=\"Conjugação do verbo dormir\">dormir</a></li><li><a href=\"/verbo-sorrir/\" title=\"Conjugação do verbo sorrir\">sorrir</a></li><li><a href=\"/verbo-andar/\" title=\"Conjugação do verbo andar\">andar</a></li><li><a href=\"/verbo-escrever/\" title=\"Conjugação do verbo escrever\">escrever</a></li><li><a href=\"/verbo-sentir/\" title=\"Conjugação do verbo sentir\">sentir</a></li><li><a href=\"/verbo-agir/\" title=\"Conjugação do verbo agir\">agir</a></li><li><a href=\"/verbo-ouvir/\" title=\"Conjugação do verbo ouvir\">ouvir</a></li><li><a href=\"/verbo-brincar/\" title=\"Conjugação do verbo brincar\">brincar</a></li><li><a href=\"/verbo-gostar/\" title=\"Conjugação do verbo gostar\">gostar</a></li><li><a href=\"/verbo-pedir/\" title=\"Conjugação do verbo pedir\">pedir</a></li><li><a href=\"/verbo-chegar/\" title=\"Conjugação do verbo chegar\">chegar</a></li><li><a href=\"/verbo-corrigir/\" title=\"Conjugação do verbo corrigir\">corrigir</a></li><li><a href=\"/verbo-ficar/\" title=\"Conjugação do verbo ficar\">ficar</a></li><li><a href=\"/verbo-caber/\" title=\"Conjugação do verbo caber\">caber</a></li><li><a href=\"/verbo-jogar/\" title=\"Conjugação do verbo jogar\">jogar</a></li><li><a href=\"/verbo-receber/\" title=\"Conjugação do verbo receber\">receber</a></li><li><a href=\"/verbo-abrir/\" title=\"Conjugação do verbo abrir\">abrir</a></li><li><a href=\"/verbo-dancar/\" title=\"Conjugação do verbo dançar\">dançar</a></li><li><a href=\"/verbo-pensar/\" title=\"Conjugação do verbo pensar\">pensar</a></li><li><a href=\"/verbo-cair/\" title=\"Conjugação do verbo cair\">cair</a></li><li><a href=\"/verbo-viver/\" title=\"Conjugação do verbo viver\">viver</a></li><li><a href=\"/verbo-manter/\" title=\"Conjugação do verbo manter\">manter</a></li><li><a href=\"/verbo-chamar/\" title=\"Conjugação do verbo chamar\">chamar</a></li><li><a href=\"/verbo-conseguir/\" title=\"Conjugação do verbo conseguir\">conseguir</a></li><li><a href=\"/verbo-crer/\" title=\"Conjugação do verbo crer\">crer</a></li><li><a href=\"/verbo-comprar/\" title=\"Conjugação do verbo comprar\">comprar</a></li><li><a href=\"/verbo-aprender/\" title=\"Conjugação do verbo aprender\">aprender</a></li><li><a href=\"/verbo-perder/\" title=\"Conjugação do verbo perder\">perder</a></li><li><a href=\"/verbo-comecar/\" title=\"Conjugação do verbo começar\">começar</a></li><li><a href=\"/verbo-encontrar/\" title=\"Conjugação do verbo encontrar\">encontrar</a></li><li><a href=\"/verbo-expor/\" title=\"Conjugação do verbo expor\">expor</a></li><li><a href=\"/verbo-pular/\" title=\"Conjugação do verbo pular\">pular</a></li><li><a href=\"/verbo-dividir/\" title=\"Conjugação do verbo dividir\">dividir</a></li><li><a href=\"/verbo-viajar/\" title=\"Conjugação do verbo viajar\">viajar</a></li><li><a href=\"/verbo-conhecer/\" title=\"Conjugação do verbo conhecer\">conhecer</a></li><li><a href=\"/verbo-nascer/\" title=\"Conjugação do verbo nascer\">nascer</a></li><li><a href=\"/verbo-intervir/\" title=\"Conjugação do verbo intervir\">intervir</a></li><li><a href=\"/verbo-voar/\" title=\"Conjugação do verbo voar\">voar</a></li><li><a href=\"/verbo-lembrar/\" title=\"Conjugação do verbo lembrar\">lembrar</a></li><li><a href=\"/verbo-trabalhar/\" title=\"Conjugação do verbo trabalhar\">trabalhar</a></li><li><a href=\"/verbo-passear/\" title=\"Conjugação do verbo passear\">passear</a></li><li><a href=\"/verbo-subir/\" title=\"Conjugação do verbo subir\">subir</a></li><li><a href=\"/verbo-voltar/\" title=\"Conjugação do verbo voltar\">voltar</a></li><li><a href=\"/verbo-levar/\" title=\"Conjugação do verbo levar\">levar</a></li><li><a href=\"/verbo-dever/\" title=\"Conjugação do verbo dever\">dever</a></li><li><a href=\"/verbo-usar/\" title=\"Conjugação do verbo usar\">usar</a></li><li><a href=\"/verbo-passar/\" title=\"Conjugação do verbo passar\">passar</a></li><li><a href=\"/verbo-dirigir/\" title=\"Conjugação do verbo dirigir\">dirigir</a></li><li><a href=\"/verbo-entender/\" title=\"Conjugação do verbo entender\">entender</a></li><li><a href=\"/verbo-reaver/\" title=\"Conjugação do verbo reaver\">reaver</a></li><li><a href=\"/verbo-precisar/\" title=\"Conjugação do verbo precisar\">precisar</a></li><li><a href=\"/verbo-assistir/\" title=\"Conjugação do verbo assistir\">assistir</a></li><li><a href=\"/verbo-compor/\" title=\"Conjugação do verbo compor\">compor</a></li><li><a href=\"/verbo-seguir/\" title=\"Conjugação do verbo seguir\">seguir</a></li><li><a href=\"/verbo-achar/\" title=\"Conjugação do verbo achar\">achar</a></li><li><a href=\"/verbo-parar/\" title=\"Conjugação do verbo parar\">parar</a></li><li><a href=\"/verbo-olhar/\" title=\"Conjugação do verbo olhar\">olhar</a></li><li><a href=\"/verbo-deixar/\" title=\"Conjugação do verbo deixar\">deixar</a></li><li><a href=\"/verbo-fugir/\" title=\"Conjugação do verbo fugir\">fugir</a></li><li><a href=\"/verbo-proteger/\" title=\"Conjugação do verbo proteger\">proteger</a></li><li><a href=\"/verbo-colocar/\" title=\"Conjugação do verbo colocar\">colocar</a></li><li><a href=\"/verbo-medir/\" title=\"Conjugação do verbo medir\">medir</a></li><li><a href=\"/verbo-cumprir/\" title=\"Conjugação do verbo cumprir\">cumprir</a></li><li><a href=\"/verbo-acordar/\" title=\"Conjugação do verbo acordar\">acordar</a></li><li><a href=\"/verbo-imprimir/\" title=\"Conjugação do verbo imprimir\">imprimir</a></li><li><a href=\"/verbo-esquecer/\" title=\"Conjugação do verbo esquecer\">esquecer</a></li><li><a href=\"/verbo-conversar/\" title=\"Conjugação do verbo conversar\">conversar</a></li><li><a href=\"/verbo-fingir/\" title=\"Conjugação do verbo fingir\">fingir</a></li><li><a href=\"/verbo-tossir/\" title=\"Conjugação do verbo tossir\">tossir</a></li><li><a href=\"/verbo-mexer/\" title=\"Conjugação do verbo mexer\">mexer</a></li><li><a href=\"/verbo-desejar/\" title=\"Conjugação do verbo desejar\">desejar</a></li><li><a href=\"/verbo-esperar/\" title=\"Conjugação do verbo esperar\">esperar</a></li><li><a href=\"/verbo-morar/\" title=\"Conjugação do verbo morar\">morar</a></li></ul></div><div class=\"paginacao\"><span class=\"atual\">1</span> <a href=\"/verbos-populares/2/\">2</a> <a href=\"/verbos-populares/3/\">3</a> <a href=\"/verbos-populares/4/\">4</a> <a href=\"/verbos-populares/5/\">5</a> <a href=\"/verbos-populares/6/\">6</a> <a href=\"/verbos-populares/7/\">7</a> <a href=\"/verbos-populares/8/\">8</a> <a href=\"/verbos-populares/9/\">9</a> <a href=\"/verbos-populares/10/\">10</a> <a class=\"nav\" href=\"/verbos-populares/2/\">Próxima</a></div></div><div class=\"col-xs-12 col-sm-3 col-md-2 palavra-sidebar\" id=\"sidebar\"><div class=\"ad-unit ad-unit--pt-br\" id=\"div-gpt-sg-5c2b0f112805f430f41f0d68e53c154c\"></div></div><div style=\"clear: both;\"></div><div class=\"ad-unit\"></div></div><div class=\"row\" id=\"footer\"><div class=\"flinks col-sm-12\" id=\"menuLinks\"> <a href=\"/contato.php?a=e\">Encontrou um erro?</a> <span> | </span> <a href=\"/verbos-populares/\">Lista de verbos</a> <span> | </span> <a href=\"/verbos-regulares/\">Verbos regulares</a> <span> | </span> <a href=\"/verbos-irregulares-no-portugues/\">Verbos irregulares</a> <span> | </span> <a href=\"/artigos/\">Tudo sobre verbos</a> <span> | </span> <a href=\"/contato.php?a=s\">Sugerir verbos</a> <span> | </span> <a href=\"/sobre.html\">Sobre</a> <span> | </span> <a href=\"/politica-privacidade.html\">Privacidade</a> <span> | </span> <a href=\"/contato.php\">Contato</a></div> <a class=\"show-menu pull-left visible-xs col-xs-1\" href=\"#\" onclick=\"footerMenuClick();return false;\"></a><div class=\"col-sm-12 col-xs-10\" id=\"about\"><p>Copyright © 2011-2019 <a href=\"https://www.7graus.com/\" rel=\"nofollow co-worker\">7Graus</a> <span class=\"hidden-xs\">- <strong>Conjugação.com.br</strong>: <a href=\"/\">conjugação de verbos</a> da língua portuguesa é parte do <a href=\"https://www.dicio.com.br/\" rel=\"nofollow co-worker\">Dicio.com.br</a></span></p></div></div></div> <script>(function(){googletag.cmd.push(function(){googletag.pubads().enableLazyLoad({\"fetchMarginPercent\":200,\"renderMarginPercent\":100,\"mobileScaling\":1});googletag.pubads().disableInitialLoad();googletag.enableServices();var sm0=googletag.sizeMapping().addSize([0,0],[]).addSize([768,0],[[160,600],[120,600]]).build();var ss0=[[160,600],[120,600]];var s0=googletag.defineSlot('/1062898/conjugacao_verbo_sidebar',ss0,'div-gpt-sg-5c2b0f112805f430f41f0d68e53c154c').defineSizeMapping(sm0).addService(googletag.pubads());var slots=[s0];slots.forEach(function(s){googletag.display(s.getSlotElementId())});googletag.pubads().refresh(slots);var gae=function(e,s){if(!window.localStorage||window.localStorage.getItem(\"sg_gpt_event\")!==\"1\")return;if(typeof gtag!==\"undefined\"){gtag(\"event\",e,{event_category:\"Sg_GPT\",event_label:s.getAdUnitPath(),non_interaction:true})}else if(typeof ga!==\"undefined\")ga(\"send\",\"event\",\"Sg_GPT\",e,s.getAdUnitPath(),0,{nonInteraction:true})};googletag.pubads().addEventListener(\"impressionViewable\",function(e){gae(\"ImpressionViewable\",e.slot)});googletag.pubads().addEventListener(\"slotRenderEnded\",function(e){gae(\"SlotRenderEnded\",e.slot)});window.Sg_GPT_get_slots=function(){return slots};})})()</script> <script type=\"text/javascript\">function footerMenuClick(){var elem=document.getElementById(\"menuLinks\");if(hasClass(elem,\"visible\")){elem.className=elem.className.replace(\" visible\",\"\");elem.className=elem.className.replace(\"visible\",\"\");}else{elem.className+=elem.className?' visible':'visible';}\n",
       "window.scrollTo(0,document.body.scrollHeight);}\n",
       "function hasClass(element,cls){return(' '+element.className+' ').indexOf(' '+cls+' ')>-1;}</script> <script async=\"\" src=\"https://static.conjugacao.com.br/assets/foscript_034.js\" type=\"text/javascript\"></script> </body></html>"
      ]
     },
     "execution_count": 83,
     "metadata": {},
     "output_type": "execute_result"
    }
   ],
   "source": [
    "soup = get_soup(url)\n",
    "soup"
   ]
  },
  {
   "cell_type": "code",
   "execution_count": 103,
   "metadata": {},
   "outputs": [
    {
     "name": "stdout",
     "output_type": "stream",
     "text": [
      "[<li><a href=\"/verbo-ir/\" title=\"Conjugação do verbo ir\">ir</a></li>, <li><a href=\"/verbo-ser/\" title=\"Conjugação do verbo ser\">ser</a></li>, <li><a href=\"/verbo-fazer/\" title=\"Conjugação do verbo fazer\">fazer</a></li>, <li><a href=\"/verbo-amar/\" title=\"Conjugação do verbo amar\">amar</a></li>, <li><a href=\"/verbo-estar/\" title=\"Conjugação do verbo estar\">estar</a></li>, <li><a href=\"/verbo-ver/\" title=\"Conjugação do verbo ver\">ver</a></li>, <li><a href=\"/verbo-vir/\" title=\"Conjugação do verbo vir\">vir</a></li>, <li><a href=\"/verbo-ter/\" title=\"Conjugação do verbo ter\">ter</a></li>, <li><a href=\"/verbo-poder/\" title=\"Conjugação do verbo poder\">poder</a></li>, <li><a href=\"/verbo-dar/\" title=\"Conjugação do verbo dar\">dar</a></li>, <li><a href=\"/verbo-haver/\" title=\"Conjugação do verbo haver\">haver</a></li>, <li><a href=\"/verbo-partir/\" title=\"Conjugação do verbo partir\">partir</a></li>, <li><a href=\"/verbo-comer/\" title=\"Conjugação do verbo comer\">comer</a></li>, <li><a href=\"/verbo-por/\" title=\"Conjugação do verbo pôr\">pôr</a></li>, <li><a href=\"/verbo-estudar/\" title=\"Conjugação do verbo estudar\">estudar</a></li>, <li><a href=\"/verbo-falar/\" title=\"Conjugação do verbo falar\">falar</a></li>, <li><a href=\"/verbo-cantar/\" title=\"Conjugação do verbo cantar\">cantar</a></li>, <li><a href=\"/verbo-dizer/\" title=\"Conjugação do verbo dizer\">dizer</a></li>, <li><a href=\"/verbo-querer/\" title=\"Conjugação do verbo querer\">querer</a></li>, <li><a href=\"/verbo-sair/\" title=\"Conjugação do verbo sair\">sair</a></li>, <li><a href=\"/verbo-trazer/\" title=\"Conjugação do verbo trazer\">trazer</a></li>, <li><a href=\"/verbo-rir/\" title=\"Conjugação do verbo rir\">rir</a></li>, <li><a href=\"/verbo-ler/\" title=\"Conjugação do verbo ler\">ler</a></li>, <li><a href=\"/verbo-vender/\" title=\"Conjugação do verbo vender\">vender</a></li>, <li><a href=\"/verbo-correr/\" title=\"Conjugação do verbo correr\">correr</a></li>, <li><a href=\"/verbo-beber/\" title=\"Conjugação do verbo beber\">beber</a></li>, <li><a href=\"/verbo-saber/\" title=\"Conjugação do verbo saber\">saber</a></li>, <li><a href=\"/verbo-dormir/\" title=\"Conjugação do verbo dormir\">dormir</a></li>, <li><a href=\"/verbo-sorrir/\" title=\"Conjugação do verbo sorrir\">sorrir</a></li>, <li><a href=\"/verbo-andar/\" title=\"Conjugação do verbo andar\">andar</a></li>, <li><a href=\"/verbo-escrever/\" title=\"Conjugação do verbo escrever\">escrever</a></li>, <li><a href=\"/verbo-sentir/\" title=\"Conjugação do verbo sentir\">sentir</a></li>, <li><a href=\"/verbo-agir/\" title=\"Conjugação do verbo agir\">agir</a></li>, <li><a href=\"/verbo-ouvir/\" title=\"Conjugação do verbo ouvir\">ouvir</a></li>, <li><a href=\"/verbo-brincar/\" title=\"Conjugação do verbo brincar\">brincar</a></li>, <li><a href=\"/verbo-gostar/\" title=\"Conjugação do verbo gostar\">gostar</a></li>, <li><a href=\"/verbo-pedir/\" title=\"Conjugação do verbo pedir\">pedir</a></li>, <li><a href=\"/verbo-chegar/\" title=\"Conjugação do verbo chegar\">chegar</a></li>, <li><a href=\"/verbo-corrigir/\" title=\"Conjugação do verbo corrigir\">corrigir</a></li>, <li><a href=\"/verbo-ficar/\" title=\"Conjugação do verbo ficar\">ficar</a></li>, <li><a href=\"/verbo-caber/\" title=\"Conjugação do verbo caber\">caber</a></li>, <li><a href=\"/verbo-jogar/\" title=\"Conjugação do verbo jogar\">jogar</a></li>, <li><a href=\"/verbo-receber/\" title=\"Conjugação do verbo receber\">receber</a></li>, <li><a href=\"/verbo-abrir/\" title=\"Conjugação do verbo abrir\">abrir</a></li>, <li><a href=\"/verbo-dancar/\" title=\"Conjugação do verbo dançar\">dançar</a></li>, <li><a href=\"/verbo-pensar/\" title=\"Conjugação do verbo pensar\">pensar</a></li>, <li><a href=\"/verbo-cair/\" title=\"Conjugação do verbo cair\">cair</a></li>, <li><a href=\"/verbo-viver/\" title=\"Conjugação do verbo viver\">viver</a></li>, <li><a href=\"/verbo-manter/\" title=\"Conjugação do verbo manter\">manter</a></li>, <li><a href=\"/verbo-chamar/\" title=\"Conjugação do verbo chamar\">chamar</a></li>, <li><a href=\"/verbo-conseguir/\" title=\"Conjugação do verbo conseguir\">conseguir</a></li>, <li><a href=\"/verbo-crer/\" title=\"Conjugação do verbo crer\">crer</a></li>, <li><a href=\"/verbo-comprar/\" title=\"Conjugação do verbo comprar\">comprar</a></li>, <li><a href=\"/verbo-aprender/\" title=\"Conjugação do verbo aprender\">aprender</a></li>, <li><a href=\"/verbo-perder/\" title=\"Conjugação do verbo perder\">perder</a></li>, <li><a href=\"/verbo-comecar/\" title=\"Conjugação do verbo começar\">começar</a></li>, <li><a href=\"/verbo-encontrar/\" title=\"Conjugação do verbo encontrar\">encontrar</a></li>, <li><a href=\"/verbo-expor/\" title=\"Conjugação do verbo expor\">expor</a></li>, <li><a href=\"/verbo-pular/\" title=\"Conjugação do verbo pular\">pular</a></li>, <li><a href=\"/verbo-dividir/\" title=\"Conjugação do verbo dividir\">dividir</a></li>, <li><a href=\"/verbo-viajar/\" title=\"Conjugação do verbo viajar\">viajar</a></li>, <li><a href=\"/verbo-conhecer/\" title=\"Conjugação do verbo conhecer\">conhecer</a></li>, <li><a href=\"/verbo-nascer/\" title=\"Conjugação do verbo nascer\">nascer</a></li>, <li><a href=\"/verbo-intervir/\" title=\"Conjugação do verbo intervir\">intervir</a></li>, <li><a href=\"/verbo-voar/\" title=\"Conjugação do verbo voar\">voar</a></li>, <li><a href=\"/verbo-lembrar/\" title=\"Conjugação do verbo lembrar\">lembrar</a></li>, <li><a href=\"/verbo-trabalhar/\" title=\"Conjugação do verbo trabalhar\">trabalhar</a></li>, <li><a href=\"/verbo-passear/\" title=\"Conjugação do verbo passear\">passear</a></li>, <li><a href=\"/verbo-subir/\" title=\"Conjugação do verbo subir\">subir</a></li>, <li><a href=\"/verbo-voltar/\" title=\"Conjugação do verbo voltar\">voltar</a></li>, <li><a href=\"/verbo-levar/\" title=\"Conjugação do verbo levar\">levar</a></li>, <li><a href=\"/verbo-dever/\" title=\"Conjugação do verbo dever\">dever</a></li>, <li><a href=\"/verbo-usar/\" title=\"Conjugação do verbo usar\">usar</a></li>, <li><a href=\"/verbo-passar/\" title=\"Conjugação do verbo passar\">passar</a></li>, <li><a href=\"/verbo-dirigir/\" title=\"Conjugação do verbo dirigir\">dirigir</a></li>, <li><a href=\"/verbo-entender/\" title=\"Conjugação do verbo entender\">entender</a></li>, <li><a href=\"/verbo-reaver/\" title=\"Conjugação do verbo reaver\">reaver</a></li>, <li><a href=\"/verbo-precisar/\" title=\"Conjugação do verbo precisar\">precisar</a></li>, <li><a href=\"/verbo-assistir/\" title=\"Conjugação do verbo assistir\">assistir</a></li>, <li><a href=\"/verbo-compor/\" title=\"Conjugação do verbo compor\">compor</a></li>, <li><a href=\"/verbo-seguir/\" title=\"Conjugação do verbo seguir\">seguir</a></li>, <li><a href=\"/verbo-achar/\" title=\"Conjugação do verbo achar\">achar</a></li>, <li><a href=\"/verbo-parar/\" title=\"Conjugação do verbo parar\">parar</a></li>, <li><a href=\"/verbo-olhar/\" title=\"Conjugação do verbo olhar\">olhar</a></li>, <li><a href=\"/verbo-deixar/\" title=\"Conjugação do verbo deixar\">deixar</a></li>, <li><a href=\"/verbo-fugir/\" title=\"Conjugação do verbo fugir\">fugir</a></li>, <li><a href=\"/verbo-proteger/\" title=\"Conjugação do verbo proteger\">proteger</a></li>, <li><a href=\"/verbo-colocar/\" title=\"Conjugação do verbo colocar\">colocar</a></li>, <li><a href=\"/verbo-medir/\" title=\"Conjugação do verbo medir\">medir</a></li>, <li><a href=\"/verbo-cumprir/\" title=\"Conjugação do verbo cumprir\">cumprir</a></li>, <li><a href=\"/verbo-acordar/\" title=\"Conjugação do verbo acordar\">acordar</a></li>, <li><a href=\"/verbo-imprimir/\" title=\"Conjugação do verbo imprimir\">imprimir</a></li>, <li><a href=\"/verbo-esquecer/\" title=\"Conjugação do verbo esquecer\">esquecer</a></li>, <li><a href=\"/verbo-conversar/\" title=\"Conjugação do verbo conversar\">conversar</a></li>, <li><a href=\"/verbo-fingir/\" title=\"Conjugação do verbo fingir\">fingir</a></li>, <li><a href=\"/verbo-tossir/\" title=\"Conjugação do verbo tossir\">tossir</a></li>, <li><a href=\"/verbo-mexer/\" title=\"Conjugação do verbo mexer\">mexer</a></li>, <li><a href=\"/verbo-desejar/\" title=\"Conjugação do verbo desejar\">desejar</a></li>, <li><a href=\"/verbo-esperar/\" title=\"Conjugação do verbo esperar\">esperar</a></li>, <li><a href=\"/verbo-morar/\" title=\"Conjugação do verbo morar\">morar</a></li>]\n"
     ]
    }
   ],
   "source": [
    "lista_verbos = soup.find(class_='wrapper').findAll('li')\n",
    "print(lista_verbos)"
   ]
  },
  {
   "cell_type": "code",
   "execution_count": 85,
   "metadata": {},
   "outputs": [],
   "source": [
    "um = lista_verbos[0].find('a')"
   ]
  },
  {
   "cell_type": "code",
   "execution_count": 86,
   "metadata": {},
   "outputs": [
    {
     "data": {
      "text/plain": [
       "<a href=\"/verbo-ir/\" title=\"Conjugação do verbo ir\">ir</a>"
      ]
     },
     "execution_count": 86,
     "metadata": {},
     "output_type": "execute_result"
    }
   ],
   "source": [
    "um"
   ]
  },
  {
   "cell_type": "code",
   "execution_count": 87,
   "metadata": {},
   "outputs": [
    {
     "data": {
      "text/plain": [
       "'/verbo-ir/'"
      ]
     },
     "execution_count": 87,
     "metadata": {},
     "output_type": "execute_result"
    }
   ],
   "source": [
    "um['href']"
   ]
  },
  {
   "cell_type": "code",
   "execution_count": 88,
   "metadata": {},
   "outputs": [
    {
     "data": {
      "text/plain": [
       "{'parser_class': bs4.BeautifulSoup,\n",
       " 'name': 'a',\n",
       " 'namespace': None,\n",
       " 'prefix': None,\n",
       " 'preserve_whitespace_tags': {'pre', 'textarea'},\n",
       " 'known_xml': False,\n",
       " 'attrs': {'href': '/verbo-ir/', 'title': 'Conjugação do verbo ir'},\n",
       " 'contents': ['ir'],\n",
       " 'parent': <li><a href=\"/verbo-ir/\" title=\"Conjugação do verbo ir\">ir</a></li>,\n",
       " 'previous_element': <li><a href=\"/verbo-ir/\" title=\"Conjugação do verbo ir\">ir</a></li>,\n",
       " 'next_element': 'ir',\n",
       " 'next_sibling': None,\n",
       " 'previous_sibling': None,\n",
       " 'hidden': False,\n",
       " 'can_be_empty_element': False}"
      ]
     },
     "execution_count": 88,
     "metadata": {},
     "output_type": "execute_result"
    }
   ],
   "source": [
    "um.__dict__"
   ]
  },
  {
   "cell_type": "code",
   "execution_count": 89,
   "metadata": {},
   "outputs": [
    {
     "data": {
      "text/plain": [
       "'a'"
      ]
     },
     "execution_count": 89,
     "metadata": {},
     "output_type": "execute_result"
    }
   ],
   "source": [
    "um.name"
   ]
  },
  {
   "cell_type": "code",
   "execution_count": 90,
   "metadata": {},
   "outputs": [
    {
     "data": {
      "text/plain": [
       "'Conjugação do verbo ir'"
      ]
     },
     "execution_count": 90,
     "metadata": {},
     "output_type": "execute_result"
    }
   ],
   "source": [
    "um['title']"
   ]
  },
  {
   "cell_type": "code",
   "execution_count": 91,
   "metadata": {},
   "outputs": [
    {
     "data": {
      "text/plain": [
       "['ir']"
      ]
     },
     "execution_count": 91,
     "metadata": {},
     "output_type": "execute_result"
    }
   ],
   "source": [
    "um.contents # extract content from tag and put in a list"
   ]
  },
  {
   "cell_type": "code",
   "execution_count": 92,
   "metadata": {},
   "outputs": [
    {
     "data": {
      "text/plain": [
       "'ir'"
      ]
     },
     "execution_count": 92,
     "metadata": {},
     "output_type": "execute_result"
    }
   ],
   "source": [
    "um.text"
   ]
  },
  {
   "cell_type": "code",
   "execution_count": 93,
   "metadata": {},
   "outputs": [
    {
     "data": {
      "text/plain": [
       "[<li><a href=\"/verbo-ir/\" title=\"Conjugação do verbo ir\">ir</a></li>,\n",
       " <li><a href=\"/verbo-ser/\" title=\"Conjugação do verbo ser\">ser</a></li>,\n",
       " <li><a href=\"/verbo-fazer/\" title=\"Conjugação do verbo fazer\">fazer</a></li>,\n",
       " <li><a href=\"/verbo-amar/\" title=\"Conjugação do verbo amar\">amar</a></li>,\n",
       " <li><a href=\"/verbo-estar/\" title=\"Conjugação do verbo estar\">estar</a></li>,\n",
       " <li><a href=\"/verbo-ver/\" title=\"Conjugação do verbo ver\">ver</a></li>,\n",
       " <li><a href=\"/verbo-vir/\" title=\"Conjugação do verbo vir\">vir</a></li>,\n",
       " <li><a href=\"/verbo-ter/\" title=\"Conjugação do verbo ter\">ter</a></li>,\n",
       " <li><a href=\"/verbo-poder/\" title=\"Conjugação do verbo poder\">poder</a></li>,\n",
       " <li><a href=\"/verbo-dar/\" title=\"Conjugação do verbo dar\">dar</a></li>,\n",
       " <li><a href=\"/verbo-haver/\" title=\"Conjugação do verbo haver\">haver</a></li>,\n",
       " <li><a href=\"/verbo-partir/\" title=\"Conjugação do verbo partir\">partir</a></li>,\n",
       " <li><a href=\"/verbo-comer/\" title=\"Conjugação do verbo comer\">comer</a></li>,\n",
       " <li><a href=\"/verbo-por/\" title=\"Conjugação do verbo pôr\">pôr</a></li>,\n",
       " <li><a href=\"/verbo-estudar/\" title=\"Conjugação do verbo estudar\">estudar</a></li>,\n",
       " <li><a href=\"/verbo-falar/\" title=\"Conjugação do verbo falar\">falar</a></li>,\n",
       " <li><a href=\"/verbo-cantar/\" title=\"Conjugação do verbo cantar\">cantar</a></li>,\n",
       " <li><a href=\"/verbo-dizer/\" title=\"Conjugação do verbo dizer\">dizer</a></li>,\n",
       " <li><a href=\"/verbo-querer/\" title=\"Conjugação do verbo querer\">querer</a></li>,\n",
       " <li><a href=\"/verbo-sair/\" title=\"Conjugação do verbo sair\">sair</a></li>,\n",
       " <li><a href=\"/verbo-trazer/\" title=\"Conjugação do verbo trazer\">trazer</a></li>,\n",
       " <li><a href=\"/verbo-rir/\" title=\"Conjugação do verbo rir\">rir</a></li>,\n",
       " <li><a href=\"/verbo-ler/\" title=\"Conjugação do verbo ler\">ler</a></li>,\n",
       " <li><a href=\"/verbo-vender/\" title=\"Conjugação do verbo vender\">vender</a></li>,\n",
       " <li><a href=\"/verbo-correr/\" title=\"Conjugação do verbo correr\">correr</a></li>,\n",
       " <li><a href=\"/verbo-beber/\" title=\"Conjugação do verbo beber\">beber</a></li>,\n",
       " <li><a href=\"/verbo-saber/\" title=\"Conjugação do verbo saber\">saber</a></li>,\n",
       " <li><a href=\"/verbo-dormir/\" title=\"Conjugação do verbo dormir\">dormir</a></li>,\n",
       " <li><a href=\"/verbo-sorrir/\" title=\"Conjugação do verbo sorrir\">sorrir</a></li>,\n",
       " <li><a href=\"/verbo-andar/\" title=\"Conjugação do verbo andar\">andar</a></li>,\n",
       " <li><a href=\"/verbo-escrever/\" title=\"Conjugação do verbo escrever\">escrever</a></li>,\n",
       " <li><a href=\"/verbo-sentir/\" title=\"Conjugação do verbo sentir\">sentir</a></li>,\n",
       " <li><a href=\"/verbo-agir/\" title=\"Conjugação do verbo agir\">agir</a></li>,\n",
       " <li><a href=\"/verbo-ouvir/\" title=\"Conjugação do verbo ouvir\">ouvir</a></li>,\n",
       " <li><a href=\"/verbo-brincar/\" title=\"Conjugação do verbo brincar\">brincar</a></li>,\n",
       " <li><a href=\"/verbo-gostar/\" title=\"Conjugação do verbo gostar\">gostar</a></li>,\n",
       " <li><a href=\"/verbo-pedir/\" title=\"Conjugação do verbo pedir\">pedir</a></li>,\n",
       " <li><a href=\"/verbo-chegar/\" title=\"Conjugação do verbo chegar\">chegar</a></li>,\n",
       " <li><a href=\"/verbo-corrigir/\" title=\"Conjugação do verbo corrigir\">corrigir</a></li>,\n",
       " <li><a href=\"/verbo-ficar/\" title=\"Conjugação do verbo ficar\">ficar</a></li>,\n",
       " <li><a href=\"/verbo-caber/\" title=\"Conjugação do verbo caber\">caber</a></li>,\n",
       " <li><a href=\"/verbo-jogar/\" title=\"Conjugação do verbo jogar\">jogar</a></li>,\n",
       " <li><a href=\"/verbo-receber/\" title=\"Conjugação do verbo receber\">receber</a></li>,\n",
       " <li><a href=\"/verbo-abrir/\" title=\"Conjugação do verbo abrir\">abrir</a></li>,\n",
       " <li><a href=\"/verbo-dancar/\" title=\"Conjugação do verbo dançar\">dançar</a></li>,\n",
       " <li><a href=\"/verbo-pensar/\" title=\"Conjugação do verbo pensar\">pensar</a></li>,\n",
       " <li><a href=\"/verbo-cair/\" title=\"Conjugação do verbo cair\">cair</a></li>,\n",
       " <li><a href=\"/verbo-viver/\" title=\"Conjugação do verbo viver\">viver</a></li>,\n",
       " <li><a href=\"/verbo-manter/\" title=\"Conjugação do verbo manter\">manter</a></li>,\n",
       " <li><a href=\"/verbo-chamar/\" title=\"Conjugação do verbo chamar\">chamar</a></li>,\n",
       " <li><a href=\"/verbo-conseguir/\" title=\"Conjugação do verbo conseguir\">conseguir</a></li>,\n",
       " <li><a href=\"/verbo-crer/\" title=\"Conjugação do verbo crer\">crer</a></li>,\n",
       " <li><a href=\"/verbo-comprar/\" title=\"Conjugação do verbo comprar\">comprar</a></li>,\n",
       " <li><a href=\"/verbo-aprender/\" title=\"Conjugação do verbo aprender\">aprender</a></li>,\n",
       " <li><a href=\"/verbo-perder/\" title=\"Conjugação do verbo perder\">perder</a></li>,\n",
       " <li><a href=\"/verbo-comecar/\" title=\"Conjugação do verbo começar\">começar</a></li>,\n",
       " <li><a href=\"/verbo-encontrar/\" title=\"Conjugação do verbo encontrar\">encontrar</a></li>,\n",
       " <li><a href=\"/verbo-expor/\" title=\"Conjugação do verbo expor\">expor</a></li>,\n",
       " <li><a href=\"/verbo-pular/\" title=\"Conjugação do verbo pular\">pular</a></li>,\n",
       " <li><a href=\"/verbo-dividir/\" title=\"Conjugação do verbo dividir\">dividir</a></li>,\n",
       " <li><a href=\"/verbo-viajar/\" title=\"Conjugação do verbo viajar\">viajar</a></li>,\n",
       " <li><a href=\"/verbo-conhecer/\" title=\"Conjugação do verbo conhecer\">conhecer</a></li>,\n",
       " <li><a href=\"/verbo-nascer/\" title=\"Conjugação do verbo nascer\">nascer</a></li>,\n",
       " <li><a href=\"/verbo-intervir/\" title=\"Conjugação do verbo intervir\">intervir</a></li>,\n",
       " <li><a href=\"/verbo-voar/\" title=\"Conjugação do verbo voar\">voar</a></li>,\n",
       " <li><a href=\"/verbo-lembrar/\" title=\"Conjugação do verbo lembrar\">lembrar</a></li>,\n",
       " <li><a href=\"/verbo-trabalhar/\" title=\"Conjugação do verbo trabalhar\">trabalhar</a></li>,\n",
       " <li><a href=\"/verbo-passear/\" title=\"Conjugação do verbo passear\">passear</a></li>,\n",
       " <li><a href=\"/verbo-subir/\" title=\"Conjugação do verbo subir\">subir</a></li>,\n",
       " <li><a href=\"/verbo-voltar/\" title=\"Conjugação do verbo voltar\">voltar</a></li>,\n",
       " <li><a href=\"/verbo-levar/\" title=\"Conjugação do verbo levar\">levar</a></li>,\n",
       " <li><a href=\"/verbo-dever/\" title=\"Conjugação do verbo dever\">dever</a></li>,\n",
       " <li><a href=\"/verbo-usar/\" title=\"Conjugação do verbo usar\">usar</a></li>,\n",
       " <li><a href=\"/verbo-passar/\" title=\"Conjugação do verbo passar\">passar</a></li>,\n",
       " <li><a href=\"/verbo-dirigir/\" title=\"Conjugação do verbo dirigir\">dirigir</a></li>,\n",
       " <li><a href=\"/verbo-entender/\" title=\"Conjugação do verbo entender\">entender</a></li>,\n",
       " <li><a href=\"/verbo-reaver/\" title=\"Conjugação do verbo reaver\">reaver</a></li>,\n",
       " <li><a href=\"/verbo-precisar/\" title=\"Conjugação do verbo precisar\">precisar</a></li>,\n",
       " <li><a href=\"/verbo-assistir/\" title=\"Conjugação do verbo assistir\">assistir</a></li>,\n",
       " <li><a href=\"/verbo-compor/\" title=\"Conjugação do verbo compor\">compor</a></li>,\n",
       " <li><a href=\"/verbo-seguir/\" title=\"Conjugação do verbo seguir\">seguir</a></li>,\n",
       " <li><a href=\"/verbo-achar/\" title=\"Conjugação do verbo achar\">achar</a></li>,\n",
       " <li><a href=\"/verbo-parar/\" title=\"Conjugação do verbo parar\">parar</a></li>,\n",
       " <li><a href=\"/verbo-olhar/\" title=\"Conjugação do verbo olhar\">olhar</a></li>,\n",
       " <li><a href=\"/verbo-deixar/\" title=\"Conjugação do verbo deixar\">deixar</a></li>,\n",
       " <li><a href=\"/verbo-fugir/\" title=\"Conjugação do verbo fugir\">fugir</a></li>,\n",
       " <li><a href=\"/verbo-proteger/\" title=\"Conjugação do verbo proteger\">proteger</a></li>,\n",
       " <li><a href=\"/verbo-colocar/\" title=\"Conjugação do verbo colocar\">colocar</a></li>,\n",
       " <li><a href=\"/verbo-medir/\" title=\"Conjugação do verbo medir\">medir</a></li>,\n",
       " <li><a href=\"/verbo-cumprir/\" title=\"Conjugação do verbo cumprir\">cumprir</a></li>,\n",
       " <li><a href=\"/verbo-acordar/\" title=\"Conjugação do verbo acordar\">acordar</a></li>,\n",
       " <li><a href=\"/verbo-imprimir/\" title=\"Conjugação do verbo imprimir\">imprimir</a></li>,\n",
       " <li><a href=\"/verbo-esquecer/\" title=\"Conjugação do verbo esquecer\">esquecer</a></li>,\n",
       " <li><a href=\"/verbo-conversar/\" title=\"Conjugação do verbo conversar\">conversar</a></li>,\n",
       " <li><a href=\"/verbo-fingir/\" title=\"Conjugação do verbo fingir\">fingir</a></li>,\n",
       " <li><a href=\"/verbo-tossir/\" title=\"Conjugação do verbo tossir\">tossir</a></li>,\n",
       " <li><a href=\"/verbo-mexer/\" title=\"Conjugação do verbo mexer\">mexer</a></li>,\n",
       " <li><a href=\"/verbo-desejar/\" title=\"Conjugação do verbo desejar\">desejar</a></li>,\n",
       " <li><a href=\"/verbo-esperar/\" title=\"Conjugação do verbo esperar\">esperar</a></li>,\n",
       " <li><a href=\"/verbo-morar/\" title=\"Conjugação do verbo morar\">morar</a></li>]"
      ]
     },
     "execution_count": 93,
     "metadata": {},
     "output_type": "execute_result"
    }
   ],
   "source": [
    "e"
   ]
  },
  {
   "cell_type": "code",
   "execution_count": 94,
   "metadata": {},
   "outputs": [],
   "source": [
    "all_verbs = []\n",
    "for tag in lista_verbos:\n",
    "    clean_tag = tag.find('a')\n",
    "    link = \"https://www.conjugacao.com.br\" + clean_tag[\"href\"]\n",
    "    verb = clean_tag.text\n",
    "    pair = (verb, link)\n",
    "    all_verbs.append(pair)\n",
    "    "
   ]
  },
  {
   "cell_type": "code",
   "execution_count": 95,
   "metadata": {},
   "outputs": [
    {
     "data": {
      "text/plain": [
       "[('ir', 'https://www.conjugacao.com.br/verbo-ir/'),\n",
       " ('ser', 'https://www.conjugacao.com.br/verbo-ser/'),\n",
       " ('fazer', 'https://www.conjugacao.com.br/verbo-fazer/'),\n",
       " ('amar', 'https://www.conjugacao.com.br/verbo-amar/'),\n",
       " ('estar', 'https://www.conjugacao.com.br/verbo-estar/'),\n",
       " ('ver', 'https://www.conjugacao.com.br/verbo-ver/'),\n",
       " ('vir', 'https://www.conjugacao.com.br/verbo-vir/'),\n",
       " ('ter', 'https://www.conjugacao.com.br/verbo-ter/'),\n",
       " ('poder', 'https://www.conjugacao.com.br/verbo-poder/'),\n",
       " ('dar', 'https://www.conjugacao.com.br/verbo-dar/'),\n",
       " ('haver', 'https://www.conjugacao.com.br/verbo-haver/'),\n",
       " ('partir', 'https://www.conjugacao.com.br/verbo-partir/'),\n",
       " ('comer', 'https://www.conjugacao.com.br/verbo-comer/'),\n",
       " ('pôr', 'https://www.conjugacao.com.br/verbo-por/'),\n",
       " ('estudar', 'https://www.conjugacao.com.br/verbo-estudar/'),\n",
       " ('falar', 'https://www.conjugacao.com.br/verbo-falar/'),\n",
       " ('cantar', 'https://www.conjugacao.com.br/verbo-cantar/'),\n",
       " ('dizer', 'https://www.conjugacao.com.br/verbo-dizer/'),\n",
       " ('querer', 'https://www.conjugacao.com.br/verbo-querer/'),\n",
       " ('sair', 'https://www.conjugacao.com.br/verbo-sair/'),\n",
       " ('trazer', 'https://www.conjugacao.com.br/verbo-trazer/'),\n",
       " ('rir', 'https://www.conjugacao.com.br/verbo-rir/'),\n",
       " ('ler', 'https://www.conjugacao.com.br/verbo-ler/'),\n",
       " ('vender', 'https://www.conjugacao.com.br/verbo-vender/'),\n",
       " ('correr', 'https://www.conjugacao.com.br/verbo-correr/'),\n",
       " ('beber', 'https://www.conjugacao.com.br/verbo-beber/'),\n",
       " ('saber', 'https://www.conjugacao.com.br/verbo-saber/'),\n",
       " ('dormir', 'https://www.conjugacao.com.br/verbo-dormir/'),\n",
       " ('sorrir', 'https://www.conjugacao.com.br/verbo-sorrir/'),\n",
       " ('andar', 'https://www.conjugacao.com.br/verbo-andar/'),\n",
       " ('escrever', 'https://www.conjugacao.com.br/verbo-escrever/'),\n",
       " ('sentir', 'https://www.conjugacao.com.br/verbo-sentir/'),\n",
       " ('agir', 'https://www.conjugacao.com.br/verbo-agir/'),\n",
       " ('ouvir', 'https://www.conjugacao.com.br/verbo-ouvir/'),\n",
       " ('brincar', 'https://www.conjugacao.com.br/verbo-brincar/'),\n",
       " ('gostar', 'https://www.conjugacao.com.br/verbo-gostar/'),\n",
       " ('pedir', 'https://www.conjugacao.com.br/verbo-pedir/'),\n",
       " ('chegar', 'https://www.conjugacao.com.br/verbo-chegar/'),\n",
       " ('corrigir', 'https://www.conjugacao.com.br/verbo-corrigir/'),\n",
       " ('ficar', 'https://www.conjugacao.com.br/verbo-ficar/'),\n",
       " ('caber', 'https://www.conjugacao.com.br/verbo-caber/'),\n",
       " ('jogar', 'https://www.conjugacao.com.br/verbo-jogar/'),\n",
       " ('receber', 'https://www.conjugacao.com.br/verbo-receber/'),\n",
       " ('abrir', 'https://www.conjugacao.com.br/verbo-abrir/'),\n",
       " ('dançar', 'https://www.conjugacao.com.br/verbo-dancar/'),\n",
       " ('pensar', 'https://www.conjugacao.com.br/verbo-pensar/'),\n",
       " ('cair', 'https://www.conjugacao.com.br/verbo-cair/'),\n",
       " ('viver', 'https://www.conjugacao.com.br/verbo-viver/'),\n",
       " ('manter', 'https://www.conjugacao.com.br/verbo-manter/'),\n",
       " ('chamar', 'https://www.conjugacao.com.br/verbo-chamar/'),\n",
       " ('conseguir', 'https://www.conjugacao.com.br/verbo-conseguir/'),\n",
       " ('crer', 'https://www.conjugacao.com.br/verbo-crer/'),\n",
       " ('comprar', 'https://www.conjugacao.com.br/verbo-comprar/'),\n",
       " ('aprender', 'https://www.conjugacao.com.br/verbo-aprender/'),\n",
       " ('perder', 'https://www.conjugacao.com.br/verbo-perder/'),\n",
       " ('começar', 'https://www.conjugacao.com.br/verbo-comecar/'),\n",
       " ('encontrar', 'https://www.conjugacao.com.br/verbo-encontrar/'),\n",
       " ('expor', 'https://www.conjugacao.com.br/verbo-expor/'),\n",
       " ('pular', 'https://www.conjugacao.com.br/verbo-pular/'),\n",
       " ('dividir', 'https://www.conjugacao.com.br/verbo-dividir/'),\n",
       " ('viajar', 'https://www.conjugacao.com.br/verbo-viajar/'),\n",
       " ('conhecer', 'https://www.conjugacao.com.br/verbo-conhecer/'),\n",
       " ('nascer', 'https://www.conjugacao.com.br/verbo-nascer/'),\n",
       " ('intervir', 'https://www.conjugacao.com.br/verbo-intervir/'),\n",
       " ('voar', 'https://www.conjugacao.com.br/verbo-voar/'),\n",
       " ('lembrar', 'https://www.conjugacao.com.br/verbo-lembrar/'),\n",
       " ('trabalhar', 'https://www.conjugacao.com.br/verbo-trabalhar/'),\n",
       " ('passear', 'https://www.conjugacao.com.br/verbo-passear/'),\n",
       " ('subir', 'https://www.conjugacao.com.br/verbo-subir/'),\n",
       " ('voltar', 'https://www.conjugacao.com.br/verbo-voltar/'),\n",
       " ('levar', 'https://www.conjugacao.com.br/verbo-levar/'),\n",
       " ('dever', 'https://www.conjugacao.com.br/verbo-dever/'),\n",
       " ('usar', 'https://www.conjugacao.com.br/verbo-usar/'),\n",
       " ('passar', 'https://www.conjugacao.com.br/verbo-passar/'),\n",
       " ('dirigir', 'https://www.conjugacao.com.br/verbo-dirigir/'),\n",
       " ('entender', 'https://www.conjugacao.com.br/verbo-entender/'),\n",
       " ('reaver', 'https://www.conjugacao.com.br/verbo-reaver/'),\n",
       " ('precisar', 'https://www.conjugacao.com.br/verbo-precisar/'),\n",
       " ('assistir', 'https://www.conjugacao.com.br/verbo-assistir/'),\n",
       " ('compor', 'https://www.conjugacao.com.br/verbo-compor/'),\n",
       " ('seguir', 'https://www.conjugacao.com.br/verbo-seguir/'),\n",
       " ('achar', 'https://www.conjugacao.com.br/verbo-achar/'),\n",
       " ('parar', 'https://www.conjugacao.com.br/verbo-parar/'),\n",
       " ('olhar', 'https://www.conjugacao.com.br/verbo-olhar/'),\n",
       " ('deixar', 'https://www.conjugacao.com.br/verbo-deixar/'),\n",
       " ('fugir', 'https://www.conjugacao.com.br/verbo-fugir/'),\n",
       " ('proteger', 'https://www.conjugacao.com.br/verbo-proteger/'),\n",
       " ('colocar', 'https://www.conjugacao.com.br/verbo-colocar/'),\n",
       " ('medir', 'https://www.conjugacao.com.br/verbo-medir/'),\n",
       " ('cumprir', 'https://www.conjugacao.com.br/verbo-cumprir/'),\n",
       " ('acordar', 'https://www.conjugacao.com.br/verbo-acordar/'),\n",
       " ('imprimir', 'https://www.conjugacao.com.br/verbo-imprimir/'),\n",
       " ('esquecer', 'https://www.conjugacao.com.br/verbo-esquecer/'),\n",
       " ('conversar', 'https://www.conjugacao.com.br/verbo-conversar/'),\n",
       " ('fingir', 'https://www.conjugacao.com.br/verbo-fingir/'),\n",
       " ('tossir', 'https://www.conjugacao.com.br/verbo-tossir/'),\n",
       " ('mexer', 'https://www.conjugacao.com.br/verbo-mexer/'),\n",
       " ('desejar', 'https://www.conjugacao.com.br/verbo-desejar/'),\n",
       " ('esperar', 'https://www.conjugacao.com.br/verbo-esperar/'),\n",
       " ('morar', 'https://www.conjugacao.com.br/verbo-morar/')]"
      ]
     },
     "execution_count": 95,
     "metadata": {},
     "output_type": "execute_result"
    }
   ],
   "source": [
    "all_verbs"
   ]
  },
  {
   "cell_type": "code",
   "execution_count": 96,
   "metadata": {},
   "outputs": [],
   "source": [
    "\n",
    "#get_all_pages\n",
    "#get_all_verbs \n",
    "#get_all_conjugations"
   ]
  },
  {
   "cell_type": "code",
   "execution_count": null,
   "metadata": {},
   "outputs": [],
   "source": []
  }
 ],
 "metadata": {
  "kernelspec": {
   "display_name": "Python 3",
   "language": "python",
   "name": "python3"
  },
  "language_info": {
   "codemirror_mode": {
    "name": "ipython",
    "version": 3
   },
   "file_extension": ".py",
   "mimetype": "text/x-python",
   "name": "python",
   "nbconvert_exporter": "python",
   "pygments_lexer": "ipython3",
   "version": "3.7.1"
  }
 },
 "nbformat": 4,
 "nbformat_minor": 2
}
