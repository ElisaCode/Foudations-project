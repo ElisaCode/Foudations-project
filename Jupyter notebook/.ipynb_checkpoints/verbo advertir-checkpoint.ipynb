{
 "cells": [
  {
   "cell_type": "code",
   "execution_count": 1,
   "metadata": {},
   "outputs": [],
   "source": [
    "url = \"https://www.conjugacao.com.br/verbo-advertir/\""
   ]
  },
  {
   "cell_type": "code",
   "execution_count": 3,
   "metadata": {},
   "outputs": [],
   "source": [
    "import bs4\n",
    "from bs4 import BeautifulSoup\n",
    "from urllib.parse import urljoin\n",
    "import requests\n",
    "from urllib.request import Request, urlopen\n",
    "import unicodedata\n",
    "import re "
   ]
  },
  {
   "cell_type": "code",
   "execution_count": 4,
   "metadata": {},
   "outputs": [],
   "source": [
    "def get_soup(url):\n",
    "    req = Request(url, headers={'User-Agent': 'Mozilla/5.0 (Macintosh; Intel Mac OS X 10_9_3)'\n",
    "                                             ' AppleWebKit/537.36 (KHTML, like Gecko)'\n",
    "                                             ' Chrome/35.0.1916.47 Safari/537.36'})\n",
    "    web_byte = urlopen(req).read()\n",
    "    soup_1 = BeautifulSoup(web_byte, 'html.parser')\n",
    "    return soup_1"
   ]
  },
  {
   "cell_type": "code",
   "execution_count": 5,
   "metadata": {},
   "outputs": [
    {
     "data": {
      "text/plain": [
       "<!DOCTYPE html>\n",
       "<html lang=\"pt-br\"><head><meta charset=\"utf-8\"/><meta content=\"IE=edge\" http-equiv=\"X-UA-Compatible\"/><meta content=\"width=device-width, initial-scale=1\" name=\"viewport\"><title>Conjugação do Verbo Advertir - Conjugação de Verbos</title><meta content=\"Verbo Advertir. Conjugação de advertir em todos os tempos verbais; presente, passado e futuro. Indicativo: advirto, advertes, adverte, advertimos, advertis, advertem\" name=\"description\"/><link href=\"https://static.conjugacao.com.br/assets/style_034.css\" rel=\"stylesheet\" type=\"text/css\"/><link href=\"/rss.php\" rel=\"alternate\" title=\"RSS feed do Conjugação de Verbos\" type=\"application/rss+xml\"/><link href=\"https://fonts.googleapis.com/css?family=Titillium+Web:400,700\" rel=\"stylesheet\" type=\"text/css\"/><link href=\"https://www.conjugacao.com.br/verbo-advertir/\" rel=\"canonical\"/><link href=\"/manifest.json\" rel=\"manifest\"/><meta content=\"#52B243\" name=\"msapplication-TileColor\"/><meta content=\"https://static.conjugacao.com.br/mstile-144x144.png\" name=\"msapplication-TileImage\"/><meta content=\"#ffffff\" name=\"theme-color\"/><meta content=\"1610599232545800\" property=\"fb:app_id\"><meta content=\"Conjugação do Verbo Advertir - Conjugação de Verbos\" property=\"og:title\"><meta content=\"https://www.conjugacao.com.br/verbo-advertir/\" property=\"og:url\"><meta content=\"https://static.conjugacao.com.br/assets/img/conjugacao_logo.png\" property=\"og:image\"/><meta content=\"Conjugação\" property=\"og:site_name\"/><meta content=\"Verbo Advertir. Conjugação de advertir em todos os tempos verbais; presente, passado e futuro. Indicativo: advirto, advertes, adverte, advertimos, advertis, advertem\" property=\"og:description\"/><meta content=\"article\" property=\"og:type\"/><script async=\"async\" src=\"https://www.googletagservices.com/tag/js/gpt.js\"></script><script>var googletag=window.googletag||{cmd:[]};if(window.localStorage&&!window.localStorage.getItem(\"sg_gpt_event\")){window.localStorage.setItem(\"sg_gpt_event\",Math.floor((Math.random()*100)+1)<=10?1:0);}</script> <script>(function(i,s,o,g,r,a,m){i['GoogleAnalyticsObject']=r;i[r]=i[r]||function(){(i[r].q=i[r].q||[]).push(arguments)},i[r].l=1*new Date();a=s.createElement(o),m=s.getElementsByTagName(o)[0];a.async=1;a.src=g;m.parentNode.insertBefore(a,m)})(window,document,'script','https://www.google-analytics.com/analytics.js','ga');ga('create','UA-10605777-37','auto');ga('send','pageview');</script> </meta></meta></meta></meta></head><body> <script>var _comscore=_comscore||[];_comscore.push({c1:\"2\",c2:\"21145335\"});_comscore.push({c1:\"8\",c2:\"21145335\",c3:\"1111\"});(function(){if(!(\"localStorage\"in window)){window.localStorage={_data:{},setItem:function(id,val){return this._data[id]=String(val)},getItem:function(id){return this._data.hasOwnProperty(id)?this._data[id]:null}}}\n",
       "var loadScript=function(){if(eu==\"0\"){var s=document.createElement(\"script\"),el=document.getElementsByTagName(\"script\")[0];s.async=true;s.src=\"https://sb.scorecardresearch.com/beacon.js\";el.parentNode.insertBefore(s,el);}};var eu=localStorage.getItem(\"sg_eu\");if(eu===null){var request=new XMLHttpRequest();request.open(\"GET\",window.location.protocol+\"//eu.7gra.us/\",true);request.onreadystatechange=function(){if(this.readyState===4&&this.status===200){eu=this.responseText;localStorage.setItem(\"sg_eu\",eu)\n",
       "loadScript();}};request.send();}\n",
       "loadScript();})();</script><div class=\"container\" id=\"wrapper\"><div class=\"row\" id=\"header\"><div class=\"col-xs-12 col-sm-6\"><div id=\"logo\"><a href=\"/\">conjugação<span>.com.br</span></a></div><div id=\"slogan\"><a href=\"/\">Conjugação de Verbos em Português</a></div></div><div class=\"col-xs-12 col-sm-6\" id=\"search\"><form action=\"/search.php\" id=\"searchForm\" method=\"get\"> <input autofocus=\"\" id=\"q\" name=\"q\" type=\"text\" value=\"advertir\"/> <input id=\"botao\" type=\"submit\" value=\"conjugar\"/></form> <script type=\"text/javascript\">var textbox=document.getElementById('q');textbox.focus();textbox.select();</script> </div></div><div class=\"row\" id=\"page\"><div class=\"col-xs-12 col-sm-12\" id=\"content\"><h1 class=\"nmt\">Verbo Advertir</h1><div class=\"row\"><div class=\"col-xs-12 col-sm-9 col-md-10\"><div class=\"info-v\"><p> <strong>Gerúndio</strong>: <span><span class=\"f\">advertindo</span></span> <br/><strong>Particípio passado</strong>: <span><span></span><span class=\"f\">advertido</span></span> <br/><strong>Infinitivo</strong>: advertir</p><p class=\"secondary\">Tipo de verbo: irregular<br> Transitividade: transitivo e  intransitivo<br> Separação silábica: ad-ver-<u>tir</u><br/></br></br></p></div></div><div class=\"col-xs-12 col-sm-3 col-md-2 palavra-sidebar\"><div class=\"ad ad-palavra-sidebar\"><div class=\"ad-unit ad-unit--pt-br\" id=\"div-gpt-sg-5c2b0f112805f430f41f0d68e53c154c\"></div></div></div></div><div class=\"row\" id=\"conjugacao\"><div class=\"col-xs-12 col-sm-9 col-md-10\"><div class=\"tempos\"><h3 class=\"modoconjuga\">Indicativo</h3><div class=\"tempo-conjugacao\"><h4 class=\"tempo-conjugacao-titulo\">Presente</h4><p><span><span><span>eu</span><span class=\"f irregular\">advirto</span></span></span></p></div></div></div></div></div></div></div></body></html><span><span>tu</span><span class=\"f\">advertes</span></span><span><span>ele</span><span class=\"f\">adverte</span></span><span><span>nós</span><span class=\"f\">advertimos</span></span><span><span>vós</span><span class=\"f\">advertis</span></span><span><span>eles</span><span class=\"f\">advertem</span></span><div class=\"tempo-conjugacao\"><h4 class=\"tempo-conjugacao-titulo\">Pretérito Imperfeito</h4><p><span><span><span>eu</span><span class=\"f\">advertia</span></span></span></p></div><span><span>tu</span><span class=\"f\">advertias</span></span><span><span>ele</span><span class=\"f\">advertia</span></span><span><span>nós</span><span class=\"f\">advertíamos</span></span><span><span>vós</span><span class=\"f\">advertíeis</span></span><span><span>eles</span><span class=\"f\">advertiam</span></span><div class=\"tempo-conjugacao\"><h4 class=\"tempo-conjugacao-titulo\">Pretérito Perfeito</h4><p><span><span><span>eu</span><span class=\"f\">adverti</span></span></span></p></div><span><span>tu</span><span class=\"f\">advertiste</span></span><span><span>ele</span><span class=\"f\">advertiu</span></span><span><span>nós</span><span class=\"f\">advertimos</span></span><span><span>vós</span><span class=\"f\">advertistes</span></span><span><span>eles</span><span class=\"f\">advertiram</span></span><div class=\"tempo-conjugacao\"><h4 class=\"tempo-conjugacao-titulo\">Pretérito Mais-que-perfeito</h4><p><span><span><span>eu</span><span class=\"f\">advertira</span></span></span></p></div><span><span>tu</span><span class=\"f\">advertiras</span></span><span><span>ele</span><span class=\"f\">advertira</span></span><span><span>nós</span><span class=\"f\">advertíramos</span></span><span><span>vós</span><span class=\"f\">advertíreis</span></span><span><span>eles</span><span class=\"f\">advertiram</span></span><div class=\"tempo-conjugacao\"><h4 class=\"tempo-conjugacao-titulo\">Futuro do Presente</h4><p><span><span><span>eu</span><span class=\"f\">advertirei</span></span></span></p></div><span><span>tu</span><span class=\"f\">advertirás</span></span><span><span>ele</span><span class=\"f\">advertirá</span></span><span><span>nós</span><span class=\"f\">advertiremos</span></span><span><span>vós</span><span class=\"f\">advertireis</span></span><span><span>eles</span><span class=\"f\">advertirão</span></span><div class=\"tempo-conjugacao\"><h4 class=\"tempo-conjugacao-titulo\">Futuro do Pretérito</h4><p><span><span><span>eu</span><span class=\"f\">advertiria</span></span></span></p></div><span><span>tu</span><span class=\"f\">advertirias</span></span><span><span>ele</span><span class=\"f\">advertiria</span></span><span><span>nós</span><span class=\"f\">advertiríamos</span></span><span><span>vós</span><span class=\"f\">advertiríeis</span></span><span><span>eles</span><span class=\"f\">advertiriam</span></span><div class=\"col-xs-12 col-sm-9 col-md-10\"><div class=\"tempos\"><h3 class=\"modoconjuga\">Subjuntivo</h3><div class=\"tempo-conjugacao\"><h4 class=\"tempo-conjugacao-titulo\">Presente</h4><p><span><span><span>que eu</span> <span class=\"f irregular\">advirta</span></span></span></p></div></div></div><span><span>que tu</span> <span class=\"f irregular\">advirtas</span></span><span><span>que ele</span> <span class=\"f irregular\">advirta</span></span><span><span>que nós</span> <span class=\"f irregular\">advirtamos</span></span><span><span>que vós</span> <span class=\"f irregular\">advirtais</span></span><span><span>que eles</span> <span class=\"f irregular\">advirtam</span></span><div class=\"tempo-conjugacao\"><h4 class=\"tempo-conjugacao-titulo\">Pretérito Imperfeito</h4><p><span><span><span>se eu</span> <span class=\"f\">advertisse</span></span></span></p></div><span><span>se tu</span> <span class=\"f\">advertisses</span></span><span><span>se ele</span> <span class=\"f\">advertisse</span></span><span><span>se nós</span> <span class=\"f\">advertíssemos</span></span><span><span>se vós</span> <span class=\"f\">advertísseis</span></span><span><span>se eles</span> <span class=\"f\">advertissem</span></span><div class=\"tempo-conjugacao\"><h4 class=\"tempo-conjugacao-titulo\">Futuro</h4><p><span><span><span>quando eu</span> <span class=\"f\">advertir</span></span></span></p></div><span><span>quando tu</span> <span class=\"f\">advertires</span></span><span><span>quando ele</span> <span class=\"f\">advertir</span></span><span><span>quando nós</span> <span class=\"f\">advertirmos</span></span><span><span>quando vós</span> <span class=\"f\">advertirdes</span></span><span><span>quando eles</span> <span class=\"f\">advertirem</span></span><div class=\"tempos cols2\"><h3 class=\"modoconjuga\">Imperativo</h3><div class=\"tempo-conjugacao\"><h4 class=\"tempo-conjugacao-titulo\">Imperativo Afirmativo</h4><p><span><span>--</span></span></p></div></div><span><span class=\"f\">adverte</span> <span>tu</span></span><span><span class=\"f irregular\">advirta</span> <span>você</span></span><span><span class=\"f irregular\">advirtamos</span> <span>nós</span></span><span><span class=\"f\">adverti</span> <span>vós</span></span><span><span class=\"f irregular\">advirtam</span> <span>vocês</span></span><div class=\"tempo-conjugacao\"><h4 class=\"tempo-conjugacao-titulo\">Imperativo Negativo</h4><p><span><span>--</span></span></p></div><span><span>não</span> <span class=\"f irregular\">advirtas</span> <span>tu</span></span><span><span>não</span> <span class=\"f irregular\">advirta</span> <span>você</span></span><span><span>não</span> <span class=\"f irregular\">advirtamos</span> <span>nós</span></span><span><span>não</span> <span class=\"f irregular\">advirtais</span> <span>vós</span></span><span><span>não</span> <span class=\"f irregular\">advirtam</span> <span>vocês</span></span><div class=\"tempos cols1\"><h3 class=\"modoconjuga\">Infinitivo</h3><div class=\"tempo-conjugacao\"><h4 class=\"tempo-conjugacao-titulo\">Infinitivo Pessoal</h4><p><span><span><span>por</span> <span class=\"f\">advertir</span> <span>eu</span></span></span></p></div></div><span><span>por</span> <span class=\"f\">advertires</span> <span>tu</span></span><span><span>por</span> <span class=\"f\">advertir</span> <span>ele</span></span><span><span>por</span> <span class=\"f\">advertirmos</span> <span>nós</span></span><span><span>por</span> <span class=\"f\">advertirdes</span> <span>vós</span></span><span><span>por</span> <span class=\"f\">advertirem</span> <span>eles</span></span><div class=\"legenda\">As formas verbais que não se encaixam nos modelos fixos de conjugação verbal estão destacadas a vermelho.</div><div class=\"row\"><div class=\"col-xs-12 col-sm-9 col-md-10\"><div class=\"ad ad-palavra-middle\"><div class=\"ad-unit ad-unit--pt-br\" id=\"div-gpt-sg-f8ca454fb5a796542db0151b864a3311\"></div></div></div></div><h2 class=\"pronominal-titulo\">Conjugação com pronome oblíquo átono o</h2><div class=\"info-v\"><p><strong>Gerúndio:</strong> <span><span class=\"f\">advertindo-o</span></span></p></div><div class=\"row\" id=\"conjugacao-pronominal\"><div class=\"col-xs-12 col-sm-9 col-md-10\"><div class=\"tempos\"><h3 class=\"modo\">Indicativo</h3><div class=\"tempo-conjugacao\"><h4 class=\"tempo-conjugacao-titulo\">Presente</h4><p><span><span><span>eu</span><span class=\"f\">advirto-o</span></span></span></p></div></div></div></div><span><span>tu</span><span class=\"f\">adverte-lo</span></span><span><span>ele</span><span class=\"f\">adverte-o</span></span><span><span>nós</span><span class=\"f\">advertimo-lo</span></span><span><span>vós</span><span class=\"f\">adverti-lo</span></span><span><span>eles</span><span class=\"f\">advertem-no</span></span><div class=\"tempo-conjugacao\"><h4 class=\"tempo-conjugacao-titulo\">Pretérito Imperfeito</h4><p><span><span><span>eu</span><span class=\"f\">advertia-o</span></span></span></p></div><span><span>tu</span><span class=\"f\">advertia-lo</span></span><span><span>ele</span><span class=\"f\">advertia-o</span></span><span><span>nós</span><span class=\"f\">advertíamo-lo</span></span><span><span>vós</span><span class=\"f\">advertíei-lo</span></span><span><span>eles</span><span class=\"f\">advertiam-no</span></span><div class=\"tempo-conjugacao\"><h4 class=\"tempo-conjugacao-titulo\">Pretérito Perfeito</h4><p><span><span><span>eu</span><span class=\"f\">adverti-o</span></span></span></p></div><span><span>tu</span><span class=\"f\">advertiste-o</span></span><span><span>ele</span><span class=\"f\">advertiu-o</span></span><span><span>nós</span><span class=\"f\">advertimo-lo</span></span><span><span>vós</span><span class=\"f\">advertiste-lo</span></span><span><span>eles</span><span class=\"f\">advertiram-no</span></span><div class=\"tempo-conjugacao\"><h4 class=\"tempo-conjugacao-titulo\">Pretérito Mais-que-perfeito</h4><p><span><span><span>eu</span><span class=\"f\">advertira-o</span></span></span></p></div><span><span>tu</span><span class=\"f\">advertira-lo</span></span><span><span>ele</span><span class=\"f\">advertira-o</span></span><span><span>nós</span><span class=\"f\">advertíramo-lo</span></span><span><span>vós</span><span class=\"f\">advertírei-lo</span></span><span><span>eles</span><span class=\"f\">advertiram-no</span></span><div class=\"tempo-conjugacao\"><h4 class=\"tempo-conjugacao-titulo\">Futuro do Presente</h4><p><span><span><span>eu</span><span class=\"f\">adverti-lo-ei</span></span></span></p></div><span><span>tu</span><span class=\"f\">adverti-lo-ás</span></span><span><span>ele</span><span class=\"f\">adverti-lo-á</span></span><span><span>nós</span><span class=\"f\">adverti-lo-emos</span></span><span><span>vós</span><span class=\"f\">adverti-lo-eis</span></span><span><span>eles</span><span class=\"f\">adverti-lo-ão</span></span><div class=\"tempo-conjugacao\"><h4 class=\"tempo-conjugacao-titulo\">Futuro do Pretérito</h4><p><span><span><span>eu</span><span class=\"f\">adverti-lo-ia</span></span></span></p></div><span><span>tu</span><span class=\"f\">adverti-lo-ias</span></span><span><span>ele</span><span class=\"f\">adverti-lo-ia</span></span><span><span>nós</span><span class=\"f\">adverti-lo-íamos</span></span><span><span>vós</span><span class=\"f\">adverti-lo-íeis</span></span><span><span>eles</span><span class=\"f\">adverti-lo-iam</span></span><div class=\"col-xs-12 col-sm-9 col-md-10\"><div class=\"tempos\"><h3 class=\"modo\">Subjuntivo</h3><div class=\"tempo-conjugacao\"><h4 class=\"tempo-conjugacao-titulo\">Presente</h4><p><span><span><span>que eu o</span> <span class=\"f\">advirta</span></span></span></p></div></div></div><span><span>que tu o</span> <span class=\"f\">advirtas</span></span><span><span>que ele o</span> <span class=\"f\">advirta</span></span><span><span>que nós o</span> <span class=\"f\">advirtamos</span></span><span><span>que vós o</span> <span class=\"f\">advirtais</span></span><span><span>que eles o</span> <span class=\"f\">advirtam</span></span><div class=\"tempo-conjugacao\"><h4 class=\"tempo-conjugacao-titulo\">Pretérito Imperfeito</h4><p><span><span><span>se eu o</span> <span class=\"f\">advertisse</span></span></span></p></div><span><span>se tu o</span> <span class=\"f\">advertisses</span></span><span><span>se ele o</span> <span class=\"f\">advertisse</span></span><span><span>se nós o</span> <span class=\"f\">advertíssemos</span></span><span><span>se vós o</span> <span class=\"f\">advertísseis</span></span><span><span>se eles o</span> <span class=\"f\">advertissem</span></span><div class=\"tempo-conjugacao\"><h4 class=\"tempo-conjugacao-titulo\">Futuro</h4><p><span><span><span>quando eu o</span> <span class=\"f\">advertir</span></span></span></p></div><span><span>quando tu o</span> <span class=\"f\">advertires</span></span><span><span>quando ele o</span> <span class=\"f\">advertir</span></span><span><span>quando nós o</span> <span class=\"f\">advertirmos</span></span><span><span>quando vós o</span> <span class=\"f\">advertirdes</span></span><span><span>quando eles o</span> <span class=\"f\">advertirem</span></span><div class=\"tempos cols2\"><h3 class=\"modo\">Imperativo</h3><div class=\"tempo-conjugacao\"><h4 class=\"tempo-conjugacao-titulo\">Imperativo Afirmativo</h4><p><span><span>--</span></span></p></div></div><span><span class=\"f\">adverte-o</span> <span>tu</span></span><span><span class=\"f\">advirta-o</span> <span>você</span></span><span><span class=\"f\">advirtamo-lo</span> <span>nós</span></span><span><span class=\"f\">adverti-o</span> <span>vós</span></span><span><span class=\"f\">advirtam-no</span> <span>vocês</span></span><div class=\"tempo-conjugacao\"><h4 class=\"tempo-conjugacao-titulo\">Imperativo Negativo</h4><p><span><span>--</span></span></p></div><span><span>não o</span> <span class=\"f\">advirtas</span> <span>tu</span></span><span><span>não o</span> <span class=\"f\">advirta</span> <span>você</span></span><span><span>não o</span> <span class=\"f\">advirtamos</span> <span>nós</span></span><span><span>não o</span> <span class=\"f\">advirtais</span> <span>vós</span></span><span><span>não o</span> <span class=\"f\">advirtam</span> <span>vocês</span></span><div class=\"tempos cols1\"><h3 class=\"modo\">Infinitivo</h3><div class=\"tempo-conjugacao\"><h4 class=\"tempo-conjugacao-titulo\">Infinitivo Pessoal</h4><p><span><span><span>por o</span> <span class=\"f\">advertir</span> <span>eu</span></span></span></p></div></div><span><span>por o</span> <span class=\"f\">advertires</span> <span>tu</span></span><span><span>por o</span> <span class=\"f\">advertir</span> <span>ele</span></span><span><span>por o</span> <span class=\"f\">advertirmos</span> <span>nós</span></span><span><span>por o</span> <span class=\"f\">advertirdes</span> <span>vós</span></span><span><span>por o</span> <span class=\"f\">advertirem</span> <span>eles</span></span><div class=\"tempo2\">Verbos relacionados com advertir</div><div class=\"wrapper\"><ul><li><a href=\"/verbo-lembrar/\">lembrar</a></li><li><a href=\"/verbo-participar/\">participar</a></li><li><a href=\"/verbo-avisar/\">avisar</a></li><li><a href=\"/verbo-informar/\">informar</a></li><li><a href=\"/verbo-perceber/\">perceber</a></li><li><a href=\"/verbo-observar/\">observar</a></li><li><a href=\"/verbo-indicar/\">indicar</a></li><li><a href=\"/verbo-orientar/\">orientar</a></li><li><a href=\"/verbo-concluir/\">concluir</a></li><li><a href=\"/verbo-sugerir/\">sugerir</a></li><li><a href=\"/verbo-comunicar/\">comunicar</a></li><li><a href=\"/verbo-prevenir/\">prevenir</a></li></ul></div><div class=\"tempo2\">Saiba mais sobre os verbos</div><div class=\"wrapper\"><ul><li><a href=\"/verbos-regulares/\">Verbos regulares</a></li><li><a href=\"/verbos-irregulares-no-portugues/\">Verbos irregulares</a></li><li><a href=\"/tempos-verbais/\">Tempos verbais</a></li><li><a href=\"/formas-verbais/\">Formas verbais</a></li><li><a href=\"/verbos-no-infinitivo/\">Verbos no infinitivo</a></li><li><a href=\"/verbos-intransitivos/\">Verbos intransitivos</a></li><li><a href=\"/verbos-transitivos-indiretos/\">Verbos transitivos indiretos</a></li><li><a href=\"/regencia-verbal-e-nominal/\">Regência verbal e nominal</a></li></ul></div> <script type=\"text/javascript\">function hit(){conjugacao.hits(\"palavra\",\"advertir\");}\n",
       "document.addEventListener('articleInitiated',hit,false);</script> <div id=\"ligacoes\"> <span>«</span> <a href=\"/verbo-adverbizar/\" title=\"verbo adverbizar\">adverbizar</a> <span>«</span> <a href=\"/verbo-adversar/\" title=\"verbo adversar\">adversar</a> <span>«</span> <b>advertir</b> <span>»</span> <a href=\"/verbo-advir/\" title=\"verbo advir\">advir</a> <span>»</span> <a href=\"/verbo-advocar/\" title=\"verbo advocar\">advocar</a> <span>»</span></div><div style=\"clear: both;\"></div><div class=\"ad-unit\"><div class=\"ad-unit ad-unit--pt-br\" id=\"div-gpt-sg-04deeb8d03fa3ecdd6cb45adae939467\"></div></div><div class=\"row\" id=\"footer\"><div class=\"flinks col-sm-12\" id=\"menuLinks\"> <a href=\"/contato.php?a=e\">Encontrou um erro?</a> <span> | </span> <a href=\"/verbos-populares/\">Lista de verbos</a> <span> | </span> <a href=\"/verbos-regulares/\">Verbos regulares</a> <span> | </span> <a href=\"/verbos-irregulares-no-portugues/\">Verbos irregulares</a> <span> | </span> <a href=\"/artigos/\">Tudo sobre verbos</a> <span> | </span> <a href=\"/contato.php?a=s\">Sugerir verbos</a> <span> | </span> <a href=\"/sobre.html\">Sobre</a> <span> | </span> <a href=\"/politica-privacidade.html\">Privacidade</a> <span> | </span> <a href=\"/contato.php\">Contato</a></div> <a class=\"show-menu pull-left visible-xs col-xs-1\" href=\"#\" onclick=\"footerMenuClick();return false;\"></a><div class=\"col-sm-12 col-xs-10\" id=\"about\"><p>Copyright © 2011-2019 <a href=\"https://www.7graus.com/\" rel=\"nofollow co-worker\">7Graus</a> <span class=\"hidden-xs\">- <strong>Conjugação.com.br</strong>: <a href=\"/\">conjugação de verbos</a> da língua portuguesa é parte do <a href=\"https://www.dicio.com.br/\" rel=\"nofollow co-worker\">Dicio.com.br</a></span></p></div></div> <script>(function(){googletag.cmd.push(function(){googletag.pubads().enableLazyLoad({\"fetchMarginPercent\":200,\"renderMarginPercent\":100,\"mobileScaling\":1});googletag.pubads().disableInitialLoad();googletag.enableServices();var sm0=googletag.sizeMapping().addSize([0,0],[]).addSize([768,0],[[160,600],[120,600]]).build(),sm1=googletag.sizeMapping().addSize([0,0],[]).addSize([270,0],[[250,250]]).addSize([320,0],[[300,250],[250,250]]).addSize([356,0],[[336,280],[300,250],[250,250]]).build(),sm2=googletag.sizeMapping().addSize([0,0],[]).addSize([300,0],[[300,250],[250,250]]).addSize([336,0],[[336,280],[300,250],[250,250]]).addSize([468,0],[[468,60],[336,280],[300,250],[250,250]]).addSize([728,0],[[728,90],[468,60],[336,280],[300,250],[250,250]]).addSize([970,0],[[970,90],[728,90],[468,60],[336,280],[300,250],[250,250]]).build();var ss0=[[160,600],[120,600]],ss1=[[336,280],[300,250],[250,250]],ss2=[[970,90],[728,90],[468,60],[336,280],[300,250],[250,250]];var s0=googletag.defineSlot('/1062898/conjugacao_verbo_sidebar',ss0,'div-gpt-sg-5c2b0f112805f430f41f0d68e53c154c').defineSizeMapping(sm0).addService(googletag.pubads()),s1=googletag.defineSlot('/1062898/conjugacao_verbo_mrec',ss1,'div-gpt-sg-f8ca454fb5a796542db0151b864a3311').defineSizeMapping(sm1).addService(googletag.pubads()),s2=googletag.defineSlot('/1062898/conjugacao_bottom_ros',ss2,'div-gpt-sg-04deeb8d03fa3ecdd6cb45adae939467').defineSizeMapping(sm2).addService(googletag.pubads());var slots=[s0,s1,s2];slots.forEach(function(s){googletag.display(s.getSlotElementId())});googletag.pubads().refresh(slots);var gae=function(e,s){if(!window.localStorage||window.localStorage.getItem(\"sg_gpt_event\")!==\"1\")return;if(typeof gtag!==\"undefined\"){gtag(\"event\",e,{event_category:\"Sg_GPT\",event_label:s.getAdUnitPath(),non_interaction:true})}else if(typeof ga!==\"undefined\")ga(\"send\",\"event\",\"Sg_GPT\",e,s.getAdUnitPath(),0,{nonInteraction:true})};googletag.pubads().addEventListener(\"impressionViewable\",function(e){gae(\"ImpressionViewable\",e.slot)});googletag.pubads().addEventListener(\"slotRenderEnded\",function(e){gae(\"SlotRenderEnded\",e.slot)});window.Sg_GPT_get_slots=function(){return slots};})})()</script> <script type=\"text/javascript\">function footerMenuClick(){var elem=document.getElementById(\"menuLinks\");if(hasClass(elem,\"visible\")){elem.className=elem.className.replace(\" visible\",\"\");elem.className=elem.className.replace(\"visible\",\"\");}else{elem.className+=elem.className?' visible':'visible';}\n",
       "window.scrollTo(0,document.body.scrollHeight);}\n",
       "function hasClass(element,cls){return(' '+element.className+' ').indexOf(' '+cls+' ')>-1;}</script> <script async=\"\" src=\"https://static.conjugacao.com.br/assets/foscript_034.js\" type=\"text/javascript\"></script> "
      ]
     },
     "execution_count": 5,
     "metadata": {},
     "output_type": "execute_result"
    }
   ],
   "source": [
    "get_soup(url)"
   ]
  },
  {
   "cell_type": "code",
   "execution_count": 6,
   "metadata": {},
   "outputs": [],
   "source": [
    "html_object = get_soup(url)"
   ]
  },
  {
   "cell_type": "code",
   "execution_count": 9,
   "metadata": {},
   "outputs": [
    {
     "name": "stdout",
     "output_type": "stream",
     "text": [
      "[<h4 class=\"tempo-conjugacao-titulo\">Presente</h4>, <h4 class=\"tempo-conjugacao-titulo\">Pretérito Imperfeito</h4>, <h4 class=\"tempo-conjugacao-titulo\">Pretérito Perfeito</h4>, <h4 class=\"tempo-conjugacao-titulo\">Pretérito Mais-que-perfeito</h4>, <h4 class=\"tempo-conjugacao-titulo\">Futuro do Presente</h4>, <h4 class=\"tempo-conjugacao-titulo\">Futuro do Pretérito</h4>, <h4 class=\"tempo-conjugacao-titulo\">Presente</h4>, <h4 class=\"tempo-conjugacao-titulo\">Pretérito Imperfeito</h4>, <h4 class=\"tempo-conjugacao-titulo\">Futuro</h4>, <h4 class=\"tempo-conjugacao-titulo\">Imperativo Afirmativo</h4>, <h4 class=\"tempo-conjugacao-titulo\">Imperativo Negativo</h4>, <h4 class=\"tempo-conjugacao-titulo\">Infinitivo Pessoal</h4>, <h4 class=\"tempo-conjugacao-titulo\">Presente</h4>, <h4 class=\"tempo-conjugacao-titulo\">Pretérito Imperfeito</h4>, <h4 class=\"tempo-conjugacao-titulo\">Pretérito Perfeito</h4>, <h4 class=\"tempo-conjugacao-titulo\">Pretérito Mais-que-perfeito</h4>, <h4 class=\"tempo-conjugacao-titulo\">Futuro do Presente</h4>, <h4 class=\"tempo-conjugacao-titulo\">Futuro do Pretérito</h4>, <h4 class=\"tempo-conjugacao-titulo\">Presente</h4>, <h4 class=\"tempo-conjugacao-titulo\">Pretérito Imperfeito</h4>, <h4 class=\"tempo-conjugacao-titulo\">Futuro</h4>, <h4 class=\"tempo-conjugacao-titulo\">Imperativo Afirmativo</h4>, <h4 class=\"tempo-conjugacao-titulo\">Imperativo Negativo</h4>, <h4 class=\"tempo-conjugacao-titulo\">Infinitivo Pessoal</h4>]\n"
     ]
    }
   ],
   "source": [
    "tempo_conj = html_object.findAll(class_=\"tempo-conjugacao-titulo\")\n",
    "print(tempo_conj)"
   ]
  },
  {
   "cell_type": "code",
   "execution_count": 10,
   "metadata": {},
   "outputs": [
    {
     "name": "stdout",
     "output_type": "stream",
     "text": [
      "['Presente']\n"
     ]
    }
   ],
   "source": [
    "tempo = tempo_conj[0].contents\n",
    "print(tempo)"
   ]
  },
  {
   "cell_type": "code",
   "execution_count": 35,
   "metadata": {},
   "outputs": [
    {
     "name": "stdout",
     "output_type": "stream",
     "text": [
      "[<div class=\"tempo-conjugacao\"><h4 class=\"tempo-conjugacao-titulo\">Presente</h4><p><span><span><span>eu</span><span class=\"f irregular\">advirto</span></span></span></p></div>, <div class=\"tempo-conjugacao\"><h4 class=\"tempo-conjugacao-titulo\">Pretérito Imperfeito</h4><p><span><span><span>eu</span><span class=\"f\">advertia</span></span></span></p></div>, <div class=\"tempo-conjugacao\"><h4 class=\"tempo-conjugacao-titulo\">Pretérito Perfeito</h4><p><span><span><span>eu</span><span class=\"f\">adverti</span></span></span></p></div>, <div class=\"tempo-conjugacao\"><h4 class=\"tempo-conjugacao-titulo\">Pretérito Mais-que-perfeito</h4><p><span><span><span>eu</span><span class=\"f\">advertira</span></span></span></p></div>, <div class=\"tempo-conjugacao\"><h4 class=\"tempo-conjugacao-titulo\">Futuro do Presente</h4><p><span><span><span>eu</span><span class=\"f\">advertirei</span></span></span></p></div>, <div class=\"tempo-conjugacao\"><h4 class=\"tempo-conjugacao-titulo\">Futuro do Pretérito</h4><p><span><span><span>eu</span><span class=\"f\">advertiria</span></span></span></p></div>, <div class=\"tempo-conjugacao\"><h4 class=\"tempo-conjugacao-titulo\">Presente</h4><p><span><span><span>que eu</span> <span class=\"f irregular\">advirta</span></span></span></p></div>, <div class=\"tempo-conjugacao\"><h4 class=\"tempo-conjugacao-titulo\">Pretérito Imperfeito</h4><p><span><span><span>se eu</span> <span class=\"f\">advertisse</span></span></span></p></div>, <div class=\"tempo-conjugacao\"><h4 class=\"tempo-conjugacao-titulo\">Futuro</h4><p><span><span><span>quando eu</span> <span class=\"f\">advertir</span></span></span></p></div>, <div class=\"tempo-conjugacao\"><h4 class=\"tempo-conjugacao-titulo\">Imperativo Afirmativo</h4><p><span><span>--</span></span></p></div>, <div class=\"tempo-conjugacao\"><h4 class=\"tempo-conjugacao-titulo\">Imperativo Negativo</h4><p><span><span>--</span></span></p></div>, <div class=\"tempo-conjugacao\"><h4 class=\"tempo-conjugacao-titulo\">Infinitivo Pessoal</h4><p><span><span><span>por</span> <span class=\"f\">advertir</span> <span>eu</span></span></span></p></div>, <div class=\"tempo-conjugacao\"><h4 class=\"tempo-conjugacao-titulo\">Presente</h4><p><span><span><span>eu</span><span class=\"f\">advirto-o</span></span></span></p></div>, <div class=\"tempo-conjugacao\"><h4 class=\"tempo-conjugacao-titulo\">Pretérito Imperfeito</h4><p><span><span><span>eu</span><span class=\"f\">advertia-o</span></span></span></p></div>, <div class=\"tempo-conjugacao\"><h4 class=\"tempo-conjugacao-titulo\">Pretérito Perfeito</h4><p><span><span><span>eu</span><span class=\"f\">adverti-o</span></span></span></p></div>, <div class=\"tempo-conjugacao\"><h4 class=\"tempo-conjugacao-titulo\">Pretérito Mais-que-perfeito</h4><p><span><span><span>eu</span><span class=\"f\">advertira-o</span></span></span></p></div>, <div class=\"tempo-conjugacao\"><h4 class=\"tempo-conjugacao-titulo\">Futuro do Presente</h4><p><span><span><span>eu</span><span class=\"f\">adverti-lo-ei</span></span></span></p></div>, <div class=\"tempo-conjugacao\"><h4 class=\"tempo-conjugacao-titulo\">Futuro do Pretérito</h4><p><span><span><span>eu</span><span class=\"f\">adverti-lo-ia</span></span></span></p></div>, <div class=\"tempo-conjugacao\"><h4 class=\"tempo-conjugacao-titulo\">Presente</h4><p><span><span><span>que eu o</span> <span class=\"f\">advirta</span></span></span></p></div>, <div class=\"tempo-conjugacao\"><h4 class=\"tempo-conjugacao-titulo\">Pretérito Imperfeito</h4><p><span><span><span>se eu o</span> <span class=\"f\">advertisse</span></span></span></p></div>, <div class=\"tempo-conjugacao\"><h4 class=\"tempo-conjugacao-titulo\">Futuro</h4><p><span><span><span>quando eu o</span> <span class=\"f\">advertir</span></span></span></p></div>, <div class=\"tempo-conjugacao\"><h4 class=\"tempo-conjugacao-titulo\">Imperativo Afirmativo</h4><p><span><span>--</span></span></p></div>, <div class=\"tempo-conjugacao\"><h4 class=\"tempo-conjugacao-titulo\">Imperativo Negativo</h4><p><span><span>--</span></span></p></div>, <div class=\"tempo-conjugacao\"><h4 class=\"tempo-conjugacao-titulo\">Infinitivo Pessoal</h4><p><span><span><span>por o</span> <span class=\"f\">advertir</span> <span>eu</span></span></span></p></div>]\n"
     ]
    }
   ],
   "source": [
    "modo_conj = html_object.findAll(class_=\"tempo-conjugacao\")\n",
    "print(modo_conj)"
   ]
  },
  {
   "cell_type": "code",
   "execution_count": 22,
   "metadata": {},
   "outputs": [],
   "source": [
    "ind = modo_conj[0]"
   ]
  },
  {
   "cell_type": "code",
   "execution_count": 29,
   "metadata": {},
   "outputs": [
    {
     "data": {
      "text/plain": [
       "<h3 class=\"modoconjuga\">Indicativo</h3>"
      ]
     },
     "execution_count": 29,
     "metadata": {},
     "output_type": "execute_result"
    }
   ],
   "source": [
    "ind"
   ]
  },
  {
   "cell_type": "code",
   "execution_count": 31,
   "metadata": {},
   "outputs": [
    {
     "data": {
      "text/plain": [
       "<div class=\"tempo-conjugacao\"><h4 class=\"tempo-conjugacao-titulo\">Presente</h4><p><span><span><span>eu</span><span class=\"f irregular\">advirto</span></span></span></p></div>"
      ]
     },
     "execution_count": 31,
     "metadata": {},
     "output_type": "execute_result"
    }
   ],
   "source": [
    "ind.next_sibling"
   ]
  },
  {
   "cell_type": "code",
   "execution_count": null,
   "metadata": {},
   "outputs": [],
   "source": []
  },
  {
   "cell_type": "code",
   "execution_count": 16,
   "metadata": {},
   "outputs": [
    {
     "name": "stdout",
     "output_type": "stream",
     "text": [
      "['Presente', 'Pretérito Imperfeito', 'Pretérito Perfeito', 'Pretérito Mais-que-perfeito', 'Futuro do Presente', 'Futuro do Pretérito', 'Presente', 'Pretérito Imperfeito', 'Futuro', 'Imperativo Afirmativo', 'Imperativo Negativo', 'Infinitivo Pessoal', 'Presente', 'Pretérito Imperfeito', 'Pretérito Perfeito', 'Pretérito Mais-que-perfeito', 'Futuro do Presente', 'Futuro do Pretérito', 'Presente', 'Pretérito Imperfeito', 'Futuro', 'Imperativo Afirmativo', 'Imperativo Negativo', 'Infinitivo Pessoal']\n"
     ]
    }
   ],
   "source": [
    "tempos=[]\n",
    "for i in tempo_conj:\n",
    "    tempo = i.text\n",
    "    tempos.append(tempo)\n",
    "print(tempos)\n",
    "    "
   ]
  },
  {
   "cell_type": "code",
   "execution_count": null,
   "metadata": {},
   "outputs": [],
   "source": []
  },
  {
   "cell_type": "code",
   "execution_count": null,
   "metadata": {},
   "outputs": [],
   "source": []
  },
  {
   "cell_type": "code",
   "execution_count": 17,
   "metadata": {},
   "outputs": [
    {
     "name": "stdout",
     "output_type": "stream",
     "text": [
      "[<span class=\"f\">advertindo</span>, <span class=\"f\">advertido</span>, <span class=\"f irregular\">advirto</span>, <span class=\"f\">advertes</span>, <span class=\"f\">adverte</span>, <span class=\"f\">advertimos</span>, <span class=\"f\">advertis</span>, <span class=\"f\">advertem</span>, <span class=\"f\">advertia</span>, <span class=\"f\">advertias</span>, <span class=\"f\">advertia</span>, <span class=\"f\">advertíamos</span>, <span class=\"f\">advertíeis</span>, <span class=\"f\">advertiam</span>, <span class=\"f\">adverti</span>, <span class=\"f\">advertiste</span>, <span class=\"f\">advertiu</span>, <span class=\"f\">advertimos</span>, <span class=\"f\">advertistes</span>, <span class=\"f\">advertiram</span>, <span class=\"f\">advertira</span>, <span class=\"f\">advertiras</span>, <span class=\"f\">advertira</span>, <span class=\"f\">advertíramos</span>, <span class=\"f\">advertíreis</span>, <span class=\"f\">advertiram</span>, <span class=\"f\">advertirei</span>, <span class=\"f\">advertirás</span>, <span class=\"f\">advertirá</span>, <span class=\"f\">advertiremos</span>, <span class=\"f\">advertireis</span>, <span class=\"f\">advertirão</span>, <span class=\"f\">advertiria</span>, <span class=\"f\">advertirias</span>, <span class=\"f\">advertiria</span>, <span class=\"f\">advertiríamos</span>, <span class=\"f\">advertiríeis</span>, <span class=\"f\">advertiriam</span>, <span class=\"f irregular\">advirta</span>, <span class=\"f irregular\">advirtas</span>, <span class=\"f irregular\">advirta</span>, <span class=\"f irregular\">advirtamos</span>, <span class=\"f irregular\">advirtais</span>, <span class=\"f irregular\">advirtam</span>, <span class=\"f\">advertisse</span>, <span class=\"f\">advertisses</span>, <span class=\"f\">advertisse</span>, <span class=\"f\">advertíssemos</span>, <span class=\"f\">advertísseis</span>, <span class=\"f\">advertissem</span>, <span class=\"f\">advertir</span>, <span class=\"f\">advertires</span>, <span class=\"f\">advertir</span>, <span class=\"f\">advertirmos</span>, <span class=\"f\">advertirdes</span>, <span class=\"f\">advertirem</span>, <span class=\"f\">adverte</span>, <span class=\"f irregular\">advirta</span>, <span class=\"f irregular\">advirtamos</span>, <span class=\"f\">adverti</span>, <span class=\"f irregular\">advirtam</span>, <span class=\"f irregular\">advirtas</span>, <span class=\"f irregular\">advirta</span>, <span class=\"f irregular\">advirtamos</span>, <span class=\"f irregular\">advirtais</span>, <span class=\"f irregular\">advirtam</span>, <span class=\"f\">advertir</span>, <span class=\"f\">advertires</span>, <span class=\"f\">advertir</span>, <span class=\"f\">advertirmos</span>, <span class=\"f\">advertirdes</span>, <span class=\"f\">advertirem</span>, <span class=\"f\">advertindo-o</span>, <span class=\"f\">advirto-o</span>, <span class=\"f\">adverte-lo</span>, <span class=\"f\">adverte-o</span>, <span class=\"f\">advertimo-lo</span>, <span class=\"f\">adverti-lo</span>, <span class=\"f\">advertem-no</span>, <span class=\"f\">advertia-o</span>, <span class=\"f\">advertia-lo</span>, <span class=\"f\">advertia-o</span>, <span class=\"f\">advertíamo-lo</span>, <span class=\"f\">advertíei-lo</span>, <span class=\"f\">advertiam-no</span>, <span class=\"f\">adverti-o</span>, <span class=\"f\">advertiste-o</span>, <span class=\"f\">advertiu-o</span>, <span class=\"f\">advertimo-lo</span>, <span class=\"f\">advertiste-lo</span>, <span class=\"f\">advertiram-no</span>, <span class=\"f\">advertira-o</span>, <span class=\"f\">advertira-lo</span>, <span class=\"f\">advertira-o</span>, <span class=\"f\">advertíramo-lo</span>, <span class=\"f\">advertírei-lo</span>, <span class=\"f\">advertiram-no</span>, <span class=\"f\">adverti-lo-ei</span>, <span class=\"f\">adverti-lo-ás</span>, <span class=\"f\">adverti-lo-á</span>, <span class=\"f\">adverti-lo-emos</span>, <span class=\"f\">adverti-lo-eis</span>, <span class=\"f\">adverti-lo-ão</span>, <span class=\"f\">adverti-lo-ia</span>, <span class=\"f\">adverti-lo-ias</span>, <span class=\"f\">adverti-lo-ia</span>, <span class=\"f\">adverti-lo-íamos</span>, <span class=\"f\">adverti-lo-íeis</span>, <span class=\"f\">adverti-lo-iam</span>, <span class=\"f\">advirta</span>, <span class=\"f\">advirtas</span>, <span class=\"f\">advirta</span>, <span class=\"f\">advirtamos</span>, <span class=\"f\">advirtais</span>, <span class=\"f\">advirtam</span>, <span class=\"f\">advertisse</span>, <span class=\"f\">advertisses</span>, <span class=\"f\">advertisse</span>, <span class=\"f\">advertíssemos</span>, <span class=\"f\">advertísseis</span>, <span class=\"f\">advertissem</span>, <span class=\"f\">advertir</span>, <span class=\"f\">advertires</span>, <span class=\"f\">advertir</span>, <span class=\"f\">advertirmos</span>, <span class=\"f\">advertirdes</span>, <span class=\"f\">advertirem</span>, <span class=\"f\">adverte-o</span>, <span class=\"f\">advirta-o</span>, <span class=\"f\">advirtamo-lo</span>, <span class=\"f\">adverti-o</span>, <span class=\"f\">advirtam-no</span>, <span class=\"f\">advirtas</span>, <span class=\"f\">advirta</span>, <span class=\"f\">advirtamos</span>, <span class=\"f\">advirtais</span>, <span class=\"f\">advirtam</span>, <span class=\"f\">advertir</span>, <span class=\"f\">advertires</span>, <span class=\"f\">advertir</span>, <span class=\"f\">advertirmos</span>, <span class=\"f\">advertirdes</span>, <span class=\"f\">advertirem</span>]\n"
     ]
    }
   ],
   "source": [
    "verbo_conj = html_object.findAll(class_=\"f\")\n",
    "print(verbo_conj)"
   ]
  },
  {
   "cell_type": "code",
   "execution_count": 19,
   "metadata": {},
   "outputs": [
    {
     "name": "stdout",
     "output_type": "stream",
     "text": [
      "['advertindo', 'advertido', 'advirto', 'advertes', 'adverte', 'advertimos', 'advertis', 'advertem', 'advertia', 'advertias', 'advertia', 'advertíamos', 'advertíeis', 'advertiam', 'adverti', 'advertiste', 'advertiu', 'advertimos', 'advertistes', 'advertiram', 'advertira', 'advertiras', 'advertira', 'advertíramos', 'advertíreis', 'advertiram', 'advertirei', 'advertirás', 'advertirá', 'advertiremos', 'advertireis', 'advertirão', 'advertiria', 'advertirias', 'advertiria', 'advertiríamos', 'advertiríeis', 'advertiriam', 'advirta', 'advirtas', 'advirta', 'advirtamos', 'advirtais', 'advirtam', 'advertisse', 'advertisses', 'advertisse', 'advertíssemos', 'advertísseis', 'advertissem', 'advertir', 'advertires', 'advertir', 'advertirmos', 'advertirdes', 'advertirem', 'adverte', 'advirta', 'advirtamos', 'adverti', 'advirtam', 'advirtas', 'advirta', 'advirtamos', 'advirtais', 'advirtam', 'advertir', 'advertires', 'advertir', 'advertirmos', 'advertirdes', 'advertirem', 'advertindo-o', 'advirto-o', 'adverte-lo', 'adverte-o', 'advertimo-lo', 'adverti-lo', 'advertem-no', 'advertia-o', 'advertia-lo', 'advertia-o', 'advertíamo-lo', 'advertíei-lo', 'advertiam-no', 'adverti-o', 'advertiste-o', 'advertiu-o', 'advertimo-lo', 'advertiste-lo', 'advertiram-no', 'advertira-o', 'advertira-lo', 'advertira-o', 'advertíramo-lo', 'advertírei-lo', 'advertiram-no', 'adverti-lo-ei', 'adverti-lo-ás', 'adverti-lo-á', 'adverti-lo-emos', 'adverti-lo-eis', 'adverti-lo-ão', 'adverti-lo-ia', 'adverti-lo-ias', 'adverti-lo-ia', 'adverti-lo-íamos', 'adverti-lo-íeis', 'adverti-lo-iam', 'advirta', 'advirtas', 'advirta', 'advirtamos', 'advirtais', 'advirtam', 'advertisse', 'advertisses', 'advertisse', 'advertíssemos', 'advertísseis', 'advertissem', 'advertir', 'advertires', 'advertir', 'advertirmos', 'advertirdes', 'advertirem', 'adverte-o', 'advirta-o', 'advirtamo-lo', 'adverti-o', 'advirtam-no', 'advirtas', 'advirta', 'advirtamos', 'advirtais', 'advirtam', 'advertir', 'advertires', 'advertir', 'advertirmos', 'advertirdes', 'advertirem']\n"
     ]
    }
   ],
   "source": [
    "conjugacoes=[]\n",
    "for i in verbo_conj:\n",
    "    conj = i.text  # extracts the content of the tag\n",
    "    conjugacoes.append(conj)\n",
    "print(conjugacoes)"
   ]
  },
  {
   "cell_type": "code",
   "execution_count": 61,
   "metadata": {},
   "outputs": [
    {
     "data": {
      "text/plain": [
       "143"
      ]
     },
     "execution_count": 61,
     "metadata": {},
     "output_type": "execute_result"
    }
   ],
   "source": [
    "len(conjugacoes)"
   ]
  },
  {
   "cell_type": "code",
   "execution_count": 59,
   "metadata": {},
   "outputs": [],
   "source": [
    "gerundio = conjugacoes[0]\n",
    "participio = conjugacoes[1]\n",
    "presente_i = conjugacoes[2:8]\n",
    "imperfeito_i = conjugacoes[8:14]\n",
    "perfeito_i = conjugacoes[14:20]\n",
    "mais_que_perf_i = conjugacoes[20:26]\n",
    "fut_pres_i = conjugacoes[26:32]\n",
    "fut_pret_i = conjugacoes[32:38]\n",
    "presente_s = conjugacoes[38:44]\n",
    "pret_imperf_s = conjugacoes[44:50]\n",
    "futuro_s = conjugacoes[50:56]\n"
   ]
  },
  {
   "cell_type": "code",
   "execution_count": 60,
   "metadata": {},
   "outputs": [
    {
     "data": {
      "text/plain": [
       "['advertir',\n",
       " 'advertires',\n",
       " 'advertir',\n",
       " 'advertirmos',\n",
       " 'advertirdes',\n",
       " 'advertirem']"
      ]
     },
     "execution_count": 60,
     "metadata": {},
     "output_type": "execute_result"
    }
   ],
   "source": [
    "futuro_s"
   ]
  },
  {
   "cell_type": "code",
   "execution_count": null,
   "metadata": {},
   "outputs": [],
   "source": []
  }
 ],
 "metadata": {
  "kernelspec": {
   "display_name": "Python 3",
   "language": "python",
   "name": "python3"
  },
  "language_info": {
   "codemirror_mode": {
    "name": "ipython",
    "version": 3
   },
   "file_extension": ".py",
   "mimetype": "text/x-python",
   "name": "python",
   "nbconvert_exporter": "python",
   "pygments_lexer": "ipython3",
   "version": "3.7.1"
  }
 },
 "nbformat": 4,
 "nbformat_minor": 2
}
