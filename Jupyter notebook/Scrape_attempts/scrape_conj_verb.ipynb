{
 "cells": [
  {
   "cell_type": "code",
   "execution_count": 2,
   "metadata": {},
   "outputs": [],
   "source": [
    "url = \"https://www.conjugacao.com.br/verbo-valer/\""
   ]
  },
  {
   "cell_type": "code",
   "execution_count": 3,
   "metadata": {},
   "outputs": [],
   "source": [
    "import bs4\n",
    "from bs4 import BeautifulSoup\n",
    "from urllib.parse import urljoin\n",
    "import requests\n",
    "from urllib.request import Request, urlopen\n",
    "import unicodedata\n",
    "import re "
   ]
  },
  {
   "cell_type": "code",
   "execution_count": 4,
   "metadata": {},
   "outputs": [],
   "source": [
    "def get_soup(url):\n",
    "    req = Request(url, headers={'User-Agent': 'Mozilla/5.0 (Macintosh; Intel Mac OS X 10_9_3)'\n",
    "                                             ' AppleWebKit/537.36 (KHTML, like Gecko)'\n",
    "                                             ' Chrome/35.0.1916.47 Safari/537.36'})\n",
    "    web_byte = urlopen(req).read()\n",
    "    soup = BeautifulSoup(web_byte, 'html.parser')\n",
    "    return soup\n"
   ]
  },
  {
   "cell_type": "code",
   "execution_count": 5,
   "metadata": {},
   "outputs": [
    {
     "data": {
      "text/plain": [
       "<!DOCTYPE html>\n",
       "<html lang=\"pt-br\"><head><meta charset=\"utf-8\"/><meta content=\"IE=edge\" http-equiv=\"X-UA-Compatible\"/><meta content=\"width=device-width, initial-scale=1\" name=\"viewport\"><title>Conjugação do Verbo Valer - Conjugação de Verbos</title><meta content=\"Verbo Valer. Conjugação de valer em todos os tempos verbais; presente, passado e futuro. Indicativo: valho, vales, vale, valemos, valeis, valem\" name=\"description\"/><link href=\"https://static.conjugacao.com.br/assets/style_034.css\" rel=\"stylesheet\" type=\"text/css\"/><link href=\"/rss.php\" rel=\"alternate\" title=\"RSS feed do Conjugação de Verbos\" type=\"application/rss+xml\"/><link href=\"https://fonts.googleapis.com/css?family=Titillium+Web:400,700\" rel=\"stylesheet\" type=\"text/css\"/><link href=\"https://www.conjugacao.com.br/verbo-valer/\" rel=\"canonical\"/><link href=\"/manifest.json\" rel=\"manifest\"/><meta content=\"#52B243\" name=\"msapplication-TileColor\"/><meta content=\"https://static.conjugacao.com.br/mstile-144x144.png\" name=\"msapplication-TileImage\"/><meta content=\"#ffffff\" name=\"theme-color\"/><meta content=\"1610599232545800\" property=\"fb:app_id\"><meta content=\"Conjugação do Verbo Valer - Conjugação de Verbos\" property=\"og:title\"><meta content=\"https://www.conjugacao.com.br/verbo-valer/\" property=\"og:url\"><meta content=\"https://static.conjugacao.com.br/assets/img/conjugacao_logo.png\" property=\"og:image\"/><meta content=\"Conjugação\" property=\"og:site_name\"/><meta content=\"Verbo Valer. Conjugação de valer em todos os tempos verbais; presente, passado e futuro. Indicativo: valho, vales, vale, valemos, valeis, valem\" property=\"og:description\"/><meta content=\"article\" property=\"og:type\"/><script async=\"async\" src=\"https://www.googletagservices.com/tag/js/gpt.js\"></script><script>var googletag=window.googletag||{cmd:[]};if(window.localStorage&&!window.localStorage.getItem(\"sg_gpt_event\")){window.localStorage.setItem(\"sg_gpt_event\",Math.floor((Math.random()*100)+1)<=10?1:0);}</script> <script>(function(i,s,o,g,r,a,m){i['GoogleAnalyticsObject']=r;i[r]=i[r]||function(){(i[r].q=i[r].q||[]).push(arguments)},i[r].l=1*new Date();a=s.createElement(o),m=s.getElementsByTagName(o)[0];a.async=1;a.src=g;m.parentNode.insertBefore(a,m)})(window,document,'script','https://www.google-analytics.com/analytics.js','ga');ga('create','UA-10605777-37','auto');ga('send','pageview');</script> </meta></meta></meta></meta></head><body> <script>var _comscore=_comscore||[];_comscore.push({c1:\"2\",c2:\"21145335\"});_comscore.push({c1:\"8\",c2:\"21145335\",c3:\"1111\"});(function(){if(!(\"localStorage\"in window)){window.localStorage={_data:{},setItem:function(id,val){return this._data[id]=String(val)},getItem:function(id){return this._data.hasOwnProperty(id)?this._data[id]:null}}}\n",
       "var loadScript=function(){if(eu==\"0\"){var s=document.createElement(\"script\"),el=document.getElementsByTagName(\"script\")[0];s.async=true;s.src=\"https://sb.scorecardresearch.com/beacon.js\";el.parentNode.insertBefore(s,el);}};var eu=localStorage.getItem(\"sg_eu\");if(eu===null){var request=new XMLHttpRequest();request.open(\"GET\",window.location.protocol+\"//eu.7gra.us/\",true);request.onreadystatechange=function(){if(this.readyState===4&&this.status===200){eu=this.responseText;localStorage.setItem(\"sg_eu\",eu)\n",
       "loadScript();}};request.send();}\n",
       "loadScript();})();</script><div class=\"container\" id=\"wrapper\"><div class=\"row\" id=\"header\"><div class=\"col-xs-12 col-sm-6\"><div id=\"logo\"><a href=\"/\">conjugação<span>.com.br</span></a></div><div id=\"slogan\"><a href=\"/\">Conjugação de Verbos em Português</a></div></div><div class=\"col-xs-12 col-sm-6\" id=\"search\"><form action=\"/search.php\" id=\"searchForm\" method=\"get\"> <input autofocus=\"\" id=\"q\" name=\"q\" type=\"text\" value=\"valer\"/> <input id=\"botao\" type=\"submit\" value=\"conjugar\"/></form> <script type=\"text/javascript\">var textbox=document.getElementById('q');textbox.focus();textbox.select();</script> </div></div><div class=\"row\" id=\"page\"><div class=\"col-xs-12 col-sm-12\" id=\"content\"><h1 class=\"nmt\">Verbo Valer</h1><div class=\"row\"><div class=\"col-xs-12 col-sm-9 col-md-10\"><div class=\"intro-v\"><p>O verbo valer é conjugado com o dígrafo lh em algumas formas verbais, como a 1.ª pessoa do singular do presente do indicativo (eu valho), as formas do presente do subjuntivo (que eu valha, que eles valham,...) e algumas formas do imperativo (valhamos nós, valha ele,...).</p></div><div class=\"info-v\"><p> <strong>Gerúndio</strong>: <span><span class=\"f\">valendo</span></span> <br/><strong>Particípio passado</strong>: <span><span></span><span class=\"f\">valido</span></span> <br/><strong>Infinitivo</strong>: valer</p><p class=\"secondary\">Tipo de verbo: irregular<br> Transitividade: transitivo direto,  transitivo indireto,  transitivo direto e indireto,  intransitivo e  pronominal<br> Separação silábica: va-<u>ler</u><br/></br></br></p></div></div><div class=\"col-xs-12 col-sm-3 col-md-2 palavra-sidebar\"><div class=\"ad ad-palavra-sidebar\"><div class=\"ad-unit ad-unit--pt-br\" id=\"div-gpt-sg-5c2b0f112805f430f41f0d68e53c154c\"></div></div></div></div><div class=\"row\" id=\"conjugacao\"><div class=\"col-xs-12 col-sm-9 col-md-10\"><div class=\"tempos\"><h3 class=\"modoconjuga\">Indicativo</h3><div class=\"tempo-conjugacao\"><h4 class=\"tempo-conjugacao-titulo\">Presente</h4><p><span><span><span>eu</span><span class=\"f irregular\">valho</span></span></span></p></div></div></div></div></div></div></div></body></html><span><span>tu</span><span class=\"f\">vales</span></span><span><span>ele</span><span class=\"f\">vale</span></span><span><span>nós</span><span class=\"f\">valemos</span></span><span><span>vós</span><span class=\"f\">valeis</span></span><span><span>eles</span><span class=\"f\">valem</span></span><div class=\"tempo-conjugacao\"><h4 class=\"tempo-conjugacao-titulo\">Pretérito Imperfeito</h4><p><span><span><span>eu</span><span class=\"f\">valia</span></span></span></p></div><span><span>tu</span><span class=\"f\">valias</span></span><span><span>ele</span><span class=\"f\">valia</span></span><span><span>nós</span><span class=\"f\">valíamos</span></span><span><span>vós</span><span class=\"f\">valíeis</span></span><span><span>eles</span><span class=\"f\">valiam</span></span><div class=\"tempo-conjugacao\"><h4 class=\"tempo-conjugacao-titulo\">Pretérito Perfeito</h4><p><span><span><span>eu</span><span class=\"f\">vali</span></span></span></p></div><span><span>tu</span><span class=\"f\">valeste</span></span><span><span>ele</span><span class=\"f\">valeu</span></span><span><span>nós</span><span class=\"f\">valemos</span></span><span><span>vós</span><span class=\"f\">valestes</span></span><span><span>eles</span><span class=\"f\">valeram</span></span><div class=\"tempo-conjugacao\"><h4 class=\"tempo-conjugacao-titulo\">Pretérito Mais-que-perfeito</h4><p><span><span><span>eu</span><span class=\"f\">valera</span></span></span></p></div><span><span>tu</span><span class=\"f\">valeras</span></span><span><span>ele</span><span class=\"f\">valera</span></span><span><span>nós</span><span class=\"f\">valêramos</span></span><span><span>vós</span><span class=\"f\">valêreis</span></span><span><span>eles</span><span class=\"f\">valeram</span></span><div class=\"tempo-conjugacao\"><h4 class=\"tempo-conjugacao-titulo\">Futuro do Presente</h4><p><span><span><span>eu</span><span class=\"f\">valerei</span></span></span></p></div><span><span>tu</span><span class=\"f\">valerás</span></span><span><span>ele</span><span class=\"f\">valerá</span></span><span><span>nós</span><span class=\"f\">valeremos</span></span><span><span>vós</span><span class=\"f\">valereis</span></span><span><span>eles</span><span class=\"f\">valerão</span></span><div class=\"tempo-conjugacao\"><h4 class=\"tempo-conjugacao-titulo\">Futuro do Pretérito</h4><p><span><span><span>eu</span><span class=\"f\">valeria</span></span></span></p></div><span><span>tu</span><span class=\"f\">valerias</span></span><span><span>ele</span><span class=\"f\">valeria</span></span><span><span>nós</span><span class=\"f\">valeríamos</span></span><span><span>vós</span><span class=\"f\">valeríeis</span></span><span><span>eles</span><span class=\"f\">valeriam</span></span><div class=\"col-xs-12 col-sm-9 col-md-10\"><div class=\"tempos\"><h3 class=\"modoconjuga\">Subjuntivo</h3><div class=\"tempo-conjugacao\"><h4 class=\"tempo-conjugacao-titulo\">Presente</h4><p><span><span><span>que eu</span> <span class=\"f irregular\">valha</span></span></span></p></div></div></div><span><span>que tu</span> <span class=\"f irregular\">valhas</span></span><span><span>que ele</span> <span class=\"f irregular\">valha</span></span><span><span>que nós</span> <span class=\"f irregular\">valhamos</span></span><span><span>que vós</span> <span class=\"f irregular\">valhais</span></span><span><span>que eles</span> <span class=\"f irregular\">valham</span></span><div class=\"tempo-conjugacao\"><h4 class=\"tempo-conjugacao-titulo\">Pretérito Imperfeito</h4><p><span><span><span>se eu</span> <span class=\"f\">valesse</span></span></span></p></div><span><span>se tu</span> <span class=\"f\">valesses</span></span><span><span>se ele</span> <span class=\"f\">valesse</span></span><span><span>se nós</span> <span class=\"f\">valêssemos</span></span><span><span>se vós</span> <span class=\"f\">valêsseis</span></span><span><span>se eles</span> <span class=\"f\">valessem</span></span><div class=\"tempo-conjugacao\"><h4 class=\"tempo-conjugacao-titulo\">Futuro</h4><p><span><span><span>quando eu</span> <span class=\"f\">valer</span></span></span></p></div><span><span>quando tu</span> <span class=\"f\">valeres</span></span><span><span>quando ele</span> <span class=\"f\">valer</span></span><span><span>quando nós</span> <span class=\"f\">valermos</span></span><span><span>quando vós</span> <span class=\"f\">valerdes</span></span><span><span>quando eles</span> <span class=\"f\">valerem</span></span><div class=\"tempos cols2\"><h3 class=\"modoconjuga\">Imperativo</h3><div class=\"tempo-conjugacao\"><h4 class=\"tempo-conjugacao-titulo\">Imperativo Afirmativo</h4><p><span><span>--</span></span></p></div></div><span><span class=\"f\">vale</span> <span>tu</span></span><span><span class=\"f irregular\">valha</span> <span>você</span></span><span><span class=\"f irregular\">valhamos</span> <span>nós</span></span><span><span class=\"f\">valei</span> <span>vós</span></span><span><span class=\"f irregular\">valham</span> <span>vocês</span></span><div class=\"tempo-conjugacao\"><h4 class=\"tempo-conjugacao-titulo\">Imperativo Negativo</h4><p><span><span>--</span></span></p></div><span><span>não</span> <span class=\"f irregular\">valhas</span> <span>tu</span></span><span><span>não</span> <span class=\"f irregular\">valha</span> <span>você</span></span><span><span>não</span> <span class=\"f irregular\">valhamos</span> <span>nós</span></span><span><span>não</span> <span class=\"f irregular\">valhais</span> <span>vós</span></span><span><span>não</span> <span class=\"f irregular\">valham</span> <span>vocês</span></span><div class=\"tempos cols1\"><h3 class=\"modoconjuga\">Infinitivo</h3><div class=\"tempo-conjugacao\"><h4 class=\"tempo-conjugacao-titulo\">Infinitivo Pessoal</h4><p><span><span><span>por</span> <span class=\"f\">valer</span> <span>eu</span></span></span></p></div></div><span><span>por</span> <span class=\"f\">valeres</span> <span>tu</span></span><span><span>por</span> <span class=\"f\">valer</span> <span>ele</span></span><span><span>por</span> <span class=\"f\">valermos</span> <span>nós</span></span><span><span>por</span> <span class=\"f\">valerdes</span> <span>vós</span></span><span><span>por</span> <span class=\"f\">valerem</span> <span>eles</span></span><div class=\"legenda\">As formas verbais que não se encaixam nos modelos fixos de conjugação verbal estão destacadas a vermelho.</div><div class=\"row\"><div class=\"col-xs-12 col-sm-9 col-md-10\"><div class=\"ad ad-palavra-middle\"><div class=\"ad-unit ad-unit--pt-br\" id=\"div-gpt-sg-f8ca454fb5a796542db0151b864a3311\"></div></div></div></div><h2 class=\"pronominal-titulo\">Conjugação com pronome oblíquo átono o</h2><div class=\"info-v\"><p><strong>Gerúndio:</strong> <span><span class=\"f\">valendo-o</span></span></p></div><div class=\"row\" id=\"conjugacao-pronominal\"><div class=\"col-xs-12 col-sm-9 col-md-10\"><div class=\"tempos\"><h3 class=\"modo\">Indicativo</h3><div class=\"tempo-conjugacao\"><h4 class=\"tempo-conjugacao-titulo\">Presente</h4><p><span><span><span>eu</span><span class=\"f\">valho-o</span></span></span></p></div></div></div></div><span><span>tu</span><span class=\"f\">vale-lo</span></span><span><span>ele</span><span class=\"f\">vale-o</span></span><span><span>nós</span><span class=\"f\">valemo-lo</span></span><span><span>vós</span><span class=\"f\">valei-lo</span></span><span><span>eles</span><span class=\"f\">valem-no</span></span><div class=\"tempo-conjugacao\"><h4 class=\"tempo-conjugacao-titulo\">Pretérito Imperfeito</h4><p><span><span><span>eu</span><span class=\"f\">valia-o</span></span></span></p></div><span><span>tu</span><span class=\"f\">valia-lo</span></span><span><span>ele</span><span class=\"f\">valia-o</span></span><span><span>nós</span><span class=\"f\">valíamo-lo</span></span><span><span>vós</span><span class=\"f\">valíei-lo</span></span><span><span>eles</span><span class=\"f\">valiam-no</span></span><div class=\"tempo-conjugacao\"><h4 class=\"tempo-conjugacao-titulo\">Pretérito Perfeito</h4><p><span><span><span>eu</span><span class=\"f\">vali-o</span></span></span></p></div><span><span>tu</span><span class=\"f\">valeste-o</span></span><span><span>ele</span><span class=\"f\">valeu-o</span></span><span><span>nós</span><span class=\"f\">valemo-lo</span></span><span><span>vós</span><span class=\"f\">valeste-lo</span></span><span><span>eles</span><span class=\"f\">valeram-no</span></span><div class=\"tempo-conjugacao\"><h4 class=\"tempo-conjugacao-titulo\">Pretérito Mais-que-perfeito</h4><p><span><span><span>eu</span><span class=\"f\">valera-o</span></span></span></p></div><span><span>tu</span><span class=\"f\">valera-lo</span></span><span><span>ele</span><span class=\"f\">valera-o</span></span><span><span>nós</span><span class=\"f\">valêramo-lo</span></span><span><span>vós</span><span class=\"f\">valêrei-lo</span></span><span><span>eles</span><span class=\"f\">valeram-no</span></span><div class=\"tempo-conjugacao\"><h4 class=\"tempo-conjugacao-titulo\">Futuro do Presente</h4><p><span><span><span>eu</span><span class=\"f\">valê-lo-ei</span></span></span></p></div><span><span>tu</span><span class=\"f\">valê-lo-ás</span></span><span><span>ele</span><span class=\"f\">valê-lo-á</span></span><span><span>nós</span><span class=\"f\">valê-lo-emos</span></span><span><span>vós</span><span class=\"f\">valê-lo-eis</span></span><span><span>eles</span><span class=\"f\">valê-lo-ão</span></span><div class=\"tempo-conjugacao\"><h4 class=\"tempo-conjugacao-titulo\">Futuro do Pretérito</h4><p><span><span><span>eu</span><span class=\"f\">valê-lo-ia</span></span></span></p></div><span><span>tu</span><span class=\"f\">valê-lo-ias</span></span><span><span>ele</span><span class=\"f\">valê-lo-ia</span></span><span><span>nós</span><span class=\"f\">valê-lo-íamos</span></span><span><span>vós</span><span class=\"f\">valê-lo-íeis</span></span><span><span>eles</span><span class=\"f\">valê-lo-iam</span></span><div class=\"col-xs-12 col-sm-9 col-md-10\"><div class=\"tempos\"><h3 class=\"modo\">Subjuntivo</h3><div class=\"tempo-conjugacao\"><h4 class=\"tempo-conjugacao-titulo\">Presente</h4><p><span><span><span>que eu o</span> <span class=\"f\">valha</span></span></span></p></div></div></div><span><span>que tu o</span> <span class=\"f\">valhas</span></span><span><span>que ele o</span> <span class=\"f\">valha</span></span><span><span>que nós o</span> <span class=\"f\">valhamos</span></span><span><span>que vós o</span> <span class=\"f\">valhais</span></span><span><span>que eles o</span> <span class=\"f\">valham</span></span><div class=\"tempo-conjugacao\"><h4 class=\"tempo-conjugacao-titulo\">Pretérito Imperfeito</h4><p><span><span><span>se eu o</span> <span class=\"f\">valesse</span></span></span></p></div><span><span>se tu o</span> <span class=\"f\">valesses</span></span><span><span>se ele o</span> <span class=\"f\">valesse</span></span><span><span>se nós o</span> <span class=\"f\">valêssemos</span></span><span><span>se vós o</span> <span class=\"f\">valêsseis</span></span><span><span>se eles o</span> <span class=\"f\">valessem</span></span><div class=\"tempo-conjugacao\"><h4 class=\"tempo-conjugacao-titulo\">Futuro</h4><p><span><span><span>quando eu o</span> <span class=\"f\">valer</span></span></span></p></div><span><span>quando tu o</span> <span class=\"f\">valeres</span></span><span><span>quando ele o</span> <span class=\"f\">valer</span></span><span><span>quando nós o</span> <span class=\"f\">valermos</span></span><span><span>quando vós o</span> <span class=\"f\">valerdes</span></span><span><span>quando eles o</span> <span class=\"f\">valerem</span></span><div class=\"tempos cols2\"><h3 class=\"modo\">Imperativo</h3><div class=\"tempo-conjugacao\"><h4 class=\"tempo-conjugacao-titulo\">Imperativo Afirmativo</h4><p><span><span>--</span></span></p></div></div><span><span class=\"f\">vale-o</span> <span>tu</span></span><span><span class=\"f\">valha-o</span> <span>você</span></span><span><span class=\"f\">valhamo-lo</span> <span>nós</span></span><span><span class=\"f\">valei-o</span> <span>vós</span></span><span><span class=\"f\">valham-no</span> <span>vocês</span></span><div class=\"tempo-conjugacao\"><h4 class=\"tempo-conjugacao-titulo\">Imperativo Negativo</h4><p><span><span>--</span></span></p></div><span><span>não o</span> <span class=\"f\">valhas</span> <span>tu</span></span><span><span>não o</span> <span class=\"f\">valha</span> <span>você</span></span><span><span>não o</span> <span class=\"f\">valhamos</span> <span>nós</span></span><span><span>não o</span> <span class=\"f\">valhais</span> <span>vós</span></span><span><span>não o</span> <span class=\"f\">valham</span> <span>vocês</span></span><div class=\"tempos cols1\"><h3 class=\"modo\">Infinitivo</h3><div class=\"tempo-conjugacao\"><h4 class=\"tempo-conjugacao-titulo\">Infinitivo Pessoal</h4><p><span><span><span>por o</span> <span class=\"f\">valer</span> <span>eu</span></span></span></p></div></div><span><span>por o</span> <span class=\"f\">valeres</span> <span>tu</span></span><span><span>por o</span> <span class=\"f\">valer</span> <span>ele</span></span><span><span>por o</span> <span class=\"f\">valermos</span> <span>nós</span></span><span><span>por o</span> <span class=\"f\">valerdes</span> <span>vós</span></span><span><span>por o</span> <span class=\"f\">valerem</span> <span>eles</span></span><h2 class=\"pronominal-titulo\">Conjugação pronominal</h2><div class=\"info-v\"><p><strong>Gerúndio:</strong> <span><span class=\"f\">valendo-se</span></span></p></div><div class=\"row\" id=\"conjugacao-pronominal-reflexa\"><div class=\"col-xs-12 col-sm-9 col-md-10\"><div class=\"tempos\"><h3 class=\"modo\">Indicativo</h3><div class=\"tempo-conjugacao\"><h4 class=\"tempo-conjugacao-titulo\">Presente</h4><p><span><span><span>eu</span><span class=\"f\">valho-me</span></span></span></p></div></div></div></div><span><span>tu</span><span class=\"f\">vales-te</span></span><span><span>ele</span><span class=\"f\">vale-se</span></span><span><span>nós</span><span class=\"f\">valemo-nos</span></span><span><span>vós</span><span class=\"f\">valeis-vos</span></span><span><span>eles</span><span class=\"f\">valem-se</span></span><div class=\"tempo-conjugacao\"><h4 class=\"tempo-conjugacao-titulo\">Pretérito Imperfeito</h4><p><span><span><span>eu</span><span class=\"f\">valia-me</span></span></span></p></div><span><span>tu</span><span class=\"f\">valias-te</span></span><span><span>ele</span><span class=\"f\">valia-se</span></span><span><span>nós</span><span class=\"f\">valíamo-nos</span></span><span><span>vós</span><span class=\"f\">valíeis-vos</span></span><span><span>eles</span><span class=\"f\">valiam-se</span></span><div class=\"tempo-conjugacao\"><h4 class=\"tempo-conjugacao-titulo\">Pretérito Perfeito</h4><p><span><span><span>eu</span><span class=\"f\">vali-me</span></span></span></p></div><span><span>tu</span><span class=\"f\">valeste-te</span></span><span><span>ele</span><span class=\"f\">valeu-se</span></span><span><span>nós</span><span class=\"f\">valemo-nos</span></span><span><span>vós</span><span class=\"f\">valestes-vos</span></span><span><span>eles</span><span class=\"f\">valeram-se</span></span><div class=\"tempo-conjugacao\"><h4 class=\"tempo-conjugacao-titulo\">Pretérito Mais-que-perfeito</h4><p><span><span><span>eu</span><span class=\"f\">valera-me</span></span></span></p></div><span><span>tu</span><span class=\"f\">valeras-te</span></span><span><span>ele</span><span class=\"f\">valera-se</span></span><span><span>nós</span><span class=\"f\">valêramo-nos</span></span><span><span>vós</span><span class=\"f\">valêreis-vos</span></span><span><span>eles</span><span class=\"f\">valeram-se</span></span><div class=\"tempo-conjugacao\"><h4 class=\"tempo-conjugacao-titulo\">Futuro do Presente</h4><p><span><span><span>eu</span><span class=\"f\">valer-me-ei</span></span></span></p></div><span><span>tu</span><span class=\"f\">valer-te-ás</span></span><span><span>ele</span><span class=\"f\">valer-se-á</span></span><span><span>nós</span><span class=\"f\">valer-nos-emos</span></span><span><span>vós</span><span class=\"f\">valer-vos-eis</span></span><span><span>eles</span><span class=\"f\">valer-se-ão</span></span><div class=\"tempo-conjugacao\"><h4 class=\"tempo-conjugacao-titulo\">Futuro do Pretérito</h4><p><span><span><span>eu</span><span class=\"f\">valer-me-ia</span></span></span></p></div><span><span>tu</span><span class=\"f\">valer-te-ias</span></span><span><span>ele</span><span class=\"f\">valer-se-ia</span></span><span><span>nós</span><span class=\"f\">valer-nos-íamos</span></span><span><span>vós</span><span class=\"f\">valer-vos-íeis</span></span><span><span>eles</span><span class=\"f\">valer-se-iam</span></span><div class=\"col-xs-12 col-sm-9 col-md-10\"><div class=\"tempos\"><h3 class=\"modo\">Subjuntivo</h3><div class=\"tempo-conjugacao\"><h4 class=\"tempo-conjugacao-titulo\">Presente</h4><p><span><span><span>que eu me</span> <span class=\"f\">valha</span></span></span></p></div></div></div><span><span>que tu te</span> <span class=\"f\">valhas</span></span><span><span>que ele se</span> <span class=\"f\">valha</span></span><span><span>que nós nos</span> <span class=\"f\">valhamos</span></span><span><span>que vós vos</span> <span class=\"f\">valhais</span></span><span><span>que eles se</span> <span class=\"f\">valham</span></span><div class=\"tempo-conjugacao\"><h4 class=\"tempo-conjugacao-titulo\">Pretérito Imperfeito</h4><p><span><span><span>se eu me</span> <span class=\"f\">valesse</span></span></span></p></div><span><span>se tu te</span> <span class=\"f\">valesses</span></span><span><span>se ele se</span> <span class=\"f\">valesse</span></span><span><span>se nós nos</span> <span class=\"f\">valêssemos</span></span><span><span>se vós vos</span> <span class=\"f\">valêsseis</span></span><span><span>se eles se</span> <span class=\"f\">valessem</span></span><div class=\"tempo-conjugacao\"><h4 class=\"tempo-conjugacao-titulo\">Futuro</h4><p><span><span><span>quando eu me</span> <span class=\"f\">valer</span></span></span></p></div><span><span>quando tu te</span> <span class=\"f\">valeres</span></span><span><span>quando ele se</span> <span class=\"f\">valer</span></span><span><span>quando nós nos</span> <span class=\"f\">valermos</span></span><span><span>quando vós vos</span> <span class=\"f\">valerdes</span></span><span><span>quando eles se</span> <span class=\"f\">valerem</span></span><div class=\"tempos cols2\"><h3 class=\"modo\">Imperativo</h3><div class=\"tempo-conjugacao\"><h4 class=\"tempo-conjugacao-titulo\">Imperativo Afirmativo</h4><p><span><span>--</span></span></p></div></div><span><span class=\"f\">vale-te</span> <span>tu</span></span><span><span class=\"f\">valha-se</span> <span>você</span></span><span><span class=\"f\">valhamo-nos</span> <span>nós</span></span><span><span class=\"f\">valei-vos</span> <span>vós</span></span><span><span class=\"f\">valham-se</span> <span>vocês</span></span><div class=\"tempo-conjugacao\"><h4 class=\"tempo-conjugacao-titulo\">Imperativo Negativo</h4><p><span><span>--</span></span></p></div><span><span>não te</span> <span class=\"f\">valhas</span> <span>tu</span></span><span><span>não se</span> <span class=\"f\">valha</span> <span>você</span></span><span><span>não nos</span> <span class=\"f\">valhamos</span> <span>nós</span></span><span><span>não vos</span> <span class=\"f\">valhais</span> <span>vós</span></span><span><span>não se</span> <span class=\"f\">valham</span> <span>vocês</span></span><div class=\"tempos cols1\"><h3 class=\"modo\">Infinitivo</h3><div class=\"tempo-conjugacao\"><h4 class=\"tempo-conjugacao-titulo\">Infinitivo Pessoal</h4><p><span><span><span class=\"f\">valer-me</span> <span>eu</span></span></span></p></div></div><span><span class=\"f\">valeres-te</span> <span>tu</span></span><span><span class=\"f\">valer-se</span> <span>ele</span></span><span><span class=\"f\">valermo-nos</span> <span>nós</span></span><span><span class=\"f\">valerdes-vos</span> <span>vós</span></span><span><span class=\"f\">valerem-se</span> <span>eles</span></span><div class=\"tempo2\">Verbos relacionados com valer</div><div class=\"wrapper\"><ul><li><a href=\"/verbo-trazer/\">trazer</a></li><li><a href=\"/verbo-assistir/\">assistir</a></li><li><a href=\"/verbo-proteger/\">proteger</a></li><li><a href=\"/verbo-contar/\">contar</a></li><li><a href=\"/verbo-ajudar/\">ajudar</a></li><li><a href=\"/verbo-servir/\">servir</a></li><li><a href=\"/verbo-aproveitar/\">aproveitar</a></li><li><a href=\"/verbo-merecer/\">merecer</a></li><li><a href=\"/verbo-atrair/\">atrair</a></li><li><a href=\"/verbo-convir/\">convir</a></li><li><a href=\"/verbo-indicar/\">indicar</a></li><li><a href=\"/verbo-defender/\">defender</a></li></ul></div><div class=\"tempo2\">Saiba mais sobre os verbos</div><div class=\"wrapper\"><ul><li><a href=\"/verbos-regulares/\">Verbos regulares</a></li><li><a href=\"/verbos-irregulares-no-portugues/\">Verbos irregulares</a></li><li><a href=\"/tempos-verbais/\">Tempos verbais</a></li><li><a href=\"/formas-verbais/\">Formas verbais</a></li><li><a href=\"/verbos-no-infinitivo/\">Verbos no infinitivo</a></li><li><a href=\"/verbos-intransitivos/\">Verbos intransitivos</a></li><li><a href=\"/verbos-transitivos-indiretos/\">Verbos transitivos indiretos</a></li><li><a href=\"/regencia-verbal-e-nominal/\">Regência verbal e nominal</a></li></ul></div> <script type=\"text/javascript\">function hit(){conjugacao.hits(\"palavra\",\"valer\");}\n",
       "document.addEventListener('articleInitiated',hit,false);</script> <div id=\"ligacoes\"> <span>«</span> <a href=\"/verbo-valar/\" title=\"verbo valar\">valar</a> <span>«</span> <a href=\"/verbo-valentear/\" title=\"verbo valentear\">valentear</a> <span>«</span> <b>valer</b> <span>»</span> <a href=\"/verbo-validar/\" title=\"verbo validar\">validar</a> <span>»</span> <a href=\"/verbo-valorar/\" title=\"verbo valorar\">valorar</a> <span>»</span></div><div style=\"clear: both;\"></div><div class=\"ad-unit\"><div class=\"ad-unit ad-unit--pt-br\" id=\"div-gpt-sg-04deeb8d03fa3ecdd6cb45adae939467\"></div></div><div class=\"row\" id=\"footer\"><div class=\"flinks col-sm-12\" id=\"menuLinks\"> <a href=\"/contato.php?a=e\">Encontrou um erro?</a> <span> | </span> <a href=\"/verbos-populares/\">Lista de verbos</a> <span> | </span> <a href=\"/verbos-regulares/\">Verbos regulares</a> <span> | </span> <a href=\"/verbos-irregulares-no-portugues/\">Verbos irregulares</a> <span> | </span> <a href=\"/artigos/\">Tudo sobre verbos</a> <span> | </span> <a href=\"/contato.php?a=s\">Sugerir verbos</a> <span> | </span> <a href=\"/sobre.html\">Sobre</a> <span> | </span> <a href=\"/politica-privacidade.html\">Privacidade</a> <span> | </span> <a href=\"/contato.php\">Contato</a></div> <a class=\"show-menu pull-left visible-xs col-xs-1\" href=\"#\" onclick=\"footerMenuClick();return false;\"></a><div class=\"col-sm-12 col-xs-10\" id=\"about\"><p>Copyright © 2011-2019 <a href=\"https://www.7graus.com/\" rel=\"nofollow co-worker\">7Graus</a> <span class=\"hidden-xs\">- <strong>Conjugação.com.br</strong>: <a href=\"/\">conjugação de verbos</a> da língua portuguesa é parte do <a href=\"https://www.dicio.com.br/\" rel=\"nofollow co-worker\">Dicio.com.br</a></span></p></div></div> <script>(function(){googletag.cmd.push(function(){googletag.pubads().enableLazyLoad({\"fetchMarginPercent\":200,\"renderMarginPercent\":100,\"mobileScaling\":1});googletag.pubads().disableInitialLoad();googletag.enableServices();var sm0=googletag.sizeMapping().addSize([0,0],[]).addSize([768,0],[[160,600],[120,600]]).build(),sm1=googletag.sizeMapping().addSize([0,0],[]).addSize([270,0],[[250,250]]).addSize([320,0],[[300,250],[250,250]]).addSize([356,0],[[336,280],[300,250],[250,250]]).build(),sm2=googletag.sizeMapping().addSize([0,0],[]).addSize([300,0],[[300,250],[250,250]]).addSize([336,0],[[336,280],[300,250],[250,250]]).addSize([468,0],[[468,60],[336,280],[300,250],[250,250]]).addSize([728,0],[[728,90],[468,60],[336,280],[300,250],[250,250]]).addSize([970,0],[[970,90],[728,90],[468,60],[336,280],[300,250],[250,250]]).build();var ss0=[[160,600],[120,600]],ss1=[[336,280],[300,250],[250,250]],ss2=[[970,90],[728,90],[468,60],[336,280],[300,250],[250,250]];var s0=googletag.defineSlot('/1062898/conjugacao_verbo_sidebar',ss0,'div-gpt-sg-5c2b0f112805f430f41f0d68e53c154c').defineSizeMapping(sm0).addService(googletag.pubads()),s1=googletag.defineSlot('/1062898/conjugacao_verbo_mrec',ss1,'div-gpt-sg-f8ca454fb5a796542db0151b864a3311').defineSizeMapping(sm1).addService(googletag.pubads()),s2=googletag.defineSlot('/1062898/conjugacao_bottom_ros',ss2,'div-gpt-sg-04deeb8d03fa3ecdd6cb45adae939467').defineSizeMapping(sm2).addService(googletag.pubads());var slots=[s0,s1,s2];slots.forEach(function(s){googletag.display(s.getSlotElementId())});googletag.pubads().refresh(slots);var gae=function(e,s){if(!window.localStorage||window.localStorage.getItem(\"sg_gpt_event\")!==\"1\")return;if(typeof gtag!==\"undefined\"){gtag(\"event\",e,{event_category:\"Sg_GPT\",event_label:s.getAdUnitPath(),non_interaction:true})}else if(typeof ga!==\"undefined\")ga(\"send\",\"event\",\"Sg_GPT\",e,s.getAdUnitPath(),0,{nonInteraction:true})};googletag.pubads().addEventListener(\"impressionViewable\",function(e){gae(\"ImpressionViewable\",e.slot)});googletag.pubads().addEventListener(\"slotRenderEnded\",function(e){gae(\"SlotRenderEnded\",e.slot)});window.Sg_GPT_get_slots=function(){return slots};})})()</script> <script type=\"text/javascript\">function footerMenuClick(){var elem=document.getElementById(\"menuLinks\");if(hasClass(elem,\"visible\")){elem.className=elem.className.replace(\" visible\",\"\");elem.className=elem.className.replace(\"visible\",\"\");}else{elem.className+=elem.className?' visible':'visible';}\n",
       "window.scrollTo(0,document.body.scrollHeight);}\n",
       "function hasClass(element,cls){return(' '+element.className+' ').indexOf(' '+cls+' ')>-1;}</script> <script async=\"\" src=\"https://static.conjugacao.com.br/assets/foscript_034.js\" type=\"text/javascript\"></script> "
      ]
     },
     "execution_count": 5,
     "metadata": {},
     "output_type": "execute_result"
    }
   ],
   "source": [
    "get_soup(url)"
   ]
  },
  {
   "cell_type": "code",
   "execution_count": 6,
   "metadata": {},
   "outputs": [],
   "source": [
    "html_object = get_soup(url)"
   ]
  },
  {
   "cell_type": "code",
   "execution_count": 7,
   "metadata": {},
   "outputs": [
    {
     "name": "stdout",
     "output_type": "stream",
     "text": [
      "[<h4 class=\"tempo-conjugacao-titulo\">Presente</h4>, <h4 class=\"tempo-conjugacao-titulo\">Pretérito Imperfeito</h4>, <h4 class=\"tempo-conjugacao-titulo\">Pretérito Perfeito</h4>, <h4 class=\"tempo-conjugacao-titulo\">Pretérito Mais-que-perfeito</h4>, <h4 class=\"tempo-conjugacao-titulo\">Futuro do Presente</h4>, <h4 class=\"tempo-conjugacao-titulo\">Futuro do Pretérito</h4>, <h4 class=\"tempo-conjugacao-titulo\">Presente</h4>, <h4 class=\"tempo-conjugacao-titulo\">Pretérito Imperfeito</h4>, <h4 class=\"tempo-conjugacao-titulo\">Futuro</h4>, <h4 class=\"tempo-conjugacao-titulo\">Imperativo Afirmativo</h4>, <h4 class=\"tempo-conjugacao-titulo\">Imperativo Negativo</h4>, <h4 class=\"tempo-conjugacao-titulo\">Infinitivo Pessoal</h4>, <h4 class=\"tempo-conjugacao-titulo\">Presente</h4>, <h4 class=\"tempo-conjugacao-titulo\">Pretérito Imperfeito</h4>, <h4 class=\"tempo-conjugacao-titulo\">Pretérito Perfeito</h4>, <h4 class=\"tempo-conjugacao-titulo\">Pretérito Mais-que-perfeito</h4>, <h4 class=\"tempo-conjugacao-titulo\">Futuro do Presente</h4>, <h4 class=\"tempo-conjugacao-titulo\">Futuro do Pretérito</h4>, <h4 class=\"tempo-conjugacao-titulo\">Presente</h4>, <h4 class=\"tempo-conjugacao-titulo\">Pretérito Imperfeito</h4>, <h4 class=\"tempo-conjugacao-titulo\">Futuro</h4>, <h4 class=\"tempo-conjugacao-titulo\">Imperativo Afirmativo</h4>, <h4 class=\"tempo-conjugacao-titulo\">Imperativo Negativo</h4>, <h4 class=\"tempo-conjugacao-titulo\">Infinitivo Pessoal</h4>, <h4 class=\"tempo-conjugacao-titulo\">Presente</h4>, <h4 class=\"tempo-conjugacao-titulo\">Pretérito Imperfeito</h4>, <h4 class=\"tempo-conjugacao-titulo\">Pretérito Perfeito</h4>, <h4 class=\"tempo-conjugacao-titulo\">Pretérito Mais-que-perfeito</h4>, <h4 class=\"tempo-conjugacao-titulo\">Futuro do Presente</h4>, <h4 class=\"tempo-conjugacao-titulo\">Futuro do Pretérito</h4>, <h4 class=\"tempo-conjugacao-titulo\">Presente</h4>, <h4 class=\"tempo-conjugacao-titulo\">Pretérito Imperfeito</h4>, <h4 class=\"tempo-conjugacao-titulo\">Futuro</h4>, <h4 class=\"tempo-conjugacao-titulo\">Imperativo Afirmativo</h4>, <h4 class=\"tempo-conjugacao-titulo\">Imperativo Negativo</h4>, <h4 class=\"tempo-conjugacao-titulo\">Infinitivo Pessoal</h4>]\n"
     ]
    }
   ],
   "source": [
    "tempo_conj = html_object.findAll(class_=\"tempo-conjugacao-titulo\")\n",
    "print(tempo_conj)"
   ]
  },
  {
   "cell_type": "code",
   "execution_count": 8,
   "metadata": {},
   "outputs": [
    {
     "name": "stdout",
     "output_type": "stream",
     "text": [
      "['Presente']\n"
     ]
    }
   ],
   "source": [
    "tempo = tempo_conj[0].contents\n",
    "print(tempo)"
   ]
  },
  {
   "cell_type": "code",
   "execution_count": 9,
   "metadata": {},
   "outputs": [],
   "source": [
    "verb_conj = html_object.findAll(class_=\"tempo-conjugacao\")\n"
   ]
  },
  {
   "cell_type": "code",
   "execution_count": 10,
   "metadata": {},
   "outputs": [],
   "source": [
    "ind = verb_conj[0] "
   ]
  },
  {
   "cell_type": "code",
   "execution_count": 11,
   "metadata": {},
   "outputs": [
    {
     "data": {
      "text/plain": [
       "<div class=\"tempo-conjugacao\"><h4 class=\"tempo-conjugacao-titulo\">Presente</h4><p><span><span><span>eu</span><span class=\"f irregular\">valho</span></span></span></p></div>"
      ]
     },
     "execution_count": 11,
     "metadata": {},
     "output_type": "execute_result"
    }
   ],
   "source": [
    "ind"
   ]
  },
  {
   "cell_type": "code",
   "execution_count": 12,
   "metadata": {},
   "outputs": [],
   "source": [
    "ind.next_sibling"
   ]
  },
  {
   "cell_type": "code",
   "execution_count": null,
   "metadata": {},
   "outputs": [],
   "source": []
  },
  {
   "cell_type": "code",
   "execution_count": 13,
   "metadata": {},
   "outputs": [
    {
     "name": "stdout",
     "output_type": "stream",
     "text": [
      "['Presenteeuvalho', 'Pretérito Imperfeitoeuvalia', 'Pretérito Perfeitoeuvali', 'Pretérito Mais-que-perfeitoeuvalera', 'Futuro do Presenteeuvalerei', 'Futuro do Pretéritoeuvaleria', 'Presenteque eu valha', 'Pretérito Imperfeitose eu valesse', 'Futuroquando eu valer', 'Imperativo Afirmativo--', 'Imperativo Negativo--', 'Infinitivo Pessoalpor valer eu', 'Presenteeuvalho-o', 'Pretérito Imperfeitoeuvalia-o', 'Pretérito Perfeitoeuvali-o', 'Pretérito Mais-que-perfeitoeuvalera-o', 'Futuro do Presenteeuvalê-lo-ei', 'Futuro do Pretéritoeuvalê-lo-ia', 'Presenteque eu o valha', 'Pretérito Imperfeitose eu o valesse', 'Futuroquando eu o valer', 'Imperativo Afirmativo--', 'Imperativo Negativo--', 'Infinitivo Pessoalpor o valer eu', 'Presenteeuvalho-me', 'Pretérito Imperfeitoeuvalia-me', 'Pretérito Perfeitoeuvali-me', 'Pretérito Mais-que-perfeitoeuvalera-me', 'Futuro do Presenteeuvaler-me-ei', 'Futuro do Pretéritoeuvaler-me-ia', 'Presenteque eu me valha', 'Pretérito Imperfeitose eu me valesse', 'Futuroquando eu me valer', 'Imperativo Afirmativo--', 'Imperativo Negativo--', 'Infinitivo Pessoalvaler-me eu']\n"
     ]
    }
   ],
   "source": [
    "tempos=[]\n",
    "for i in verb_conj:\n",
    "    tempo = i.text\n",
    "    tempos.append(tempo)\n",
    "print(tempos)\n",
    "    "
   ]
  },
  {
   "cell_type": "code",
   "execution_count": null,
   "metadata": {},
   "outputs": [],
   "source": []
  },
  {
   "cell_type": "code",
   "execution_count": 14,
   "metadata": {},
   "outputs": [
    {
     "name": "stdout",
     "output_type": "stream",
     "text": [
      "[<span class=\"f\">valendo</span>, <span class=\"f\">valido</span>, <span class=\"f irregular\">valho</span>, <span class=\"f\">vales</span>, <span class=\"f\">vale</span>, <span class=\"f\">valemos</span>, <span class=\"f\">valeis</span>, <span class=\"f\">valem</span>, <span class=\"f\">valia</span>, <span class=\"f\">valias</span>, <span class=\"f\">valia</span>, <span class=\"f\">valíamos</span>, <span class=\"f\">valíeis</span>, <span class=\"f\">valiam</span>, <span class=\"f\">vali</span>, <span class=\"f\">valeste</span>, <span class=\"f\">valeu</span>, <span class=\"f\">valemos</span>, <span class=\"f\">valestes</span>, <span class=\"f\">valeram</span>, <span class=\"f\">valera</span>, <span class=\"f\">valeras</span>, <span class=\"f\">valera</span>, <span class=\"f\">valêramos</span>, <span class=\"f\">valêreis</span>, <span class=\"f\">valeram</span>, <span class=\"f\">valerei</span>, <span class=\"f\">valerás</span>, <span class=\"f\">valerá</span>, <span class=\"f\">valeremos</span>, <span class=\"f\">valereis</span>, <span class=\"f\">valerão</span>, <span class=\"f\">valeria</span>, <span class=\"f\">valerias</span>, <span class=\"f\">valeria</span>, <span class=\"f\">valeríamos</span>, <span class=\"f\">valeríeis</span>, <span class=\"f\">valeriam</span>, <span class=\"f irregular\">valha</span>, <span class=\"f irregular\">valhas</span>, <span class=\"f irregular\">valha</span>, <span class=\"f irregular\">valhamos</span>, <span class=\"f irregular\">valhais</span>, <span class=\"f irregular\">valham</span>, <span class=\"f\">valesse</span>, <span class=\"f\">valesses</span>, <span class=\"f\">valesse</span>, <span class=\"f\">valêssemos</span>, <span class=\"f\">valêsseis</span>, <span class=\"f\">valessem</span>, <span class=\"f\">valer</span>, <span class=\"f\">valeres</span>, <span class=\"f\">valer</span>, <span class=\"f\">valermos</span>, <span class=\"f\">valerdes</span>, <span class=\"f\">valerem</span>, <span class=\"f\">vale</span>, <span class=\"f irregular\">valha</span>, <span class=\"f irregular\">valhamos</span>, <span class=\"f\">valei</span>, <span class=\"f irregular\">valham</span>, <span class=\"f irregular\">valhas</span>, <span class=\"f irregular\">valha</span>, <span class=\"f irregular\">valhamos</span>, <span class=\"f irregular\">valhais</span>, <span class=\"f irregular\">valham</span>, <span class=\"f\">valer</span>, <span class=\"f\">valeres</span>, <span class=\"f\">valer</span>, <span class=\"f\">valermos</span>, <span class=\"f\">valerdes</span>, <span class=\"f\">valerem</span>, <span class=\"f\">valendo-o</span>, <span class=\"f\">valho-o</span>, <span class=\"f\">vale-lo</span>, <span class=\"f\">vale-o</span>, <span class=\"f\">valemo-lo</span>, <span class=\"f\">valei-lo</span>, <span class=\"f\">valem-no</span>, <span class=\"f\">valia-o</span>, <span class=\"f\">valia-lo</span>, <span class=\"f\">valia-o</span>, <span class=\"f\">valíamo-lo</span>, <span class=\"f\">valíei-lo</span>, <span class=\"f\">valiam-no</span>, <span class=\"f\">vali-o</span>, <span class=\"f\">valeste-o</span>, <span class=\"f\">valeu-o</span>, <span class=\"f\">valemo-lo</span>, <span class=\"f\">valeste-lo</span>, <span class=\"f\">valeram-no</span>, <span class=\"f\">valera-o</span>, <span class=\"f\">valera-lo</span>, <span class=\"f\">valera-o</span>, <span class=\"f\">valêramo-lo</span>, <span class=\"f\">valêrei-lo</span>, <span class=\"f\">valeram-no</span>, <span class=\"f\">valê-lo-ei</span>, <span class=\"f\">valê-lo-ás</span>, <span class=\"f\">valê-lo-á</span>, <span class=\"f\">valê-lo-emos</span>, <span class=\"f\">valê-lo-eis</span>, <span class=\"f\">valê-lo-ão</span>, <span class=\"f\">valê-lo-ia</span>, <span class=\"f\">valê-lo-ias</span>, <span class=\"f\">valê-lo-ia</span>, <span class=\"f\">valê-lo-íamos</span>, <span class=\"f\">valê-lo-íeis</span>, <span class=\"f\">valê-lo-iam</span>, <span class=\"f\">valha</span>, <span class=\"f\">valhas</span>, <span class=\"f\">valha</span>, <span class=\"f\">valhamos</span>, <span class=\"f\">valhais</span>, <span class=\"f\">valham</span>, <span class=\"f\">valesse</span>, <span class=\"f\">valesses</span>, <span class=\"f\">valesse</span>, <span class=\"f\">valêssemos</span>, <span class=\"f\">valêsseis</span>, <span class=\"f\">valessem</span>, <span class=\"f\">valer</span>, <span class=\"f\">valeres</span>, <span class=\"f\">valer</span>, <span class=\"f\">valermos</span>, <span class=\"f\">valerdes</span>, <span class=\"f\">valerem</span>, <span class=\"f\">vale-o</span>, <span class=\"f\">valha-o</span>, <span class=\"f\">valhamo-lo</span>, <span class=\"f\">valei-o</span>, <span class=\"f\">valham-no</span>, <span class=\"f\">valhas</span>, <span class=\"f\">valha</span>, <span class=\"f\">valhamos</span>, <span class=\"f\">valhais</span>, <span class=\"f\">valham</span>, <span class=\"f\">valer</span>, <span class=\"f\">valeres</span>, <span class=\"f\">valer</span>, <span class=\"f\">valermos</span>, <span class=\"f\">valerdes</span>, <span class=\"f\">valerem</span>, <span class=\"f\">valendo-se</span>, <span class=\"f\">valho-me</span>, <span class=\"f\">vales-te</span>, <span class=\"f\">vale-se</span>, <span class=\"f\">valemo-nos</span>, <span class=\"f\">valeis-vos</span>, <span class=\"f\">valem-se</span>, <span class=\"f\">valia-me</span>, <span class=\"f\">valias-te</span>, <span class=\"f\">valia-se</span>, <span class=\"f\">valíamo-nos</span>, <span class=\"f\">valíeis-vos</span>, <span class=\"f\">valiam-se</span>, <span class=\"f\">vali-me</span>, <span class=\"f\">valeste-te</span>, <span class=\"f\">valeu-se</span>, <span class=\"f\">valemo-nos</span>, <span class=\"f\">valestes-vos</span>, <span class=\"f\">valeram-se</span>, <span class=\"f\">valera-me</span>, <span class=\"f\">valeras-te</span>, <span class=\"f\">valera-se</span>, <span class=\"f\">valêramo-nos</span>, <span class=\"f\">valêreis-vos</span>, <span class=\"f\">valeram-se</span>, <span class=\"f\">valer-me-ei</span>, <span class=\"f\">valer-te-ás</span>, <span class=\"f\">valer-se-á</span>, <span class=\"f\">valer-nos-emos</span>, <span class=\"f\">valer-vos-eis</span>, <span class=\"f\">valer-se-ão</span>, <span class=\"f\">valer-me-ia</span>, <span class=\"f\">valer-te-ias</span>, <span class=\"f\">valer-se-ia</span>, <span class=\"f\">valer-nos-íamos</span>, <span class=\"f\">valer-vos-íeis</span>, <span class=\"f\">valer-se-iam</span>, <span class=\"f\">valha</span>, <span class=\"f\">valhas</span>, <span class=\"f\">valha</span>, <span class=\"f\">valhamos</span>, <span class=\"f\">valhais</span>, <span class=\"f\">valham</span>, <span class=\"f\">valesse</span>, <span class=\"f\">valesses</span>, <span class=\"f\">valesse</span>, <span class=\"f\">valêssemos</span>, <span class=\"f\">valêsseis</span>, <span class=\"f\">valessem</span>, <span class=\"f\">valer</span>, <span class=\"f\">valeres</span>, <span class=\"f\">valer</span>, <span class=\"f\">valermos</span>, <span class=\"f\">valerdes</span>, <span class=\"f\">valerem</span>, <span class=\"f\">vale-te</span>, <span class=\"f\">valha-se</span>, <span class=\"f\">valhamo-nos</span>, <span class=\"f\">valei-vos</span>, <span class=\"f\">valham-se</span>, <span class=\"f\">valhas</span>, <span class=\"f\">valha</span>, <span class=\"f\">valhamos</span>, <span class=\"f\">valhais</span>, <span class=\"f\">valham</span>, <span class=\"f\">valer-me</span>, <span class=\"f\">valeres-te</span>, <span class=\"f\">valer-se</span>, <span class=\"f\">valermo-nos</span>, <span class=\"f\">valerdes-vos</span>, <span class=\"f\">valerem-se</span>]\n"
     ]
    }
   ],
   "source": [
    "verbo_conj = html_object.findAll(class_=\"f\")\n",
    "print(verbo_conj)"
   ]
  },
  {
   "cell_type": "code",
   "execution_count": 15,
   "metadata": {},
   "outputs": [
    {
     "name": "stdout",
     "output_type": "stream",
     "text": [
      "['valendo', 'valido', 'valho', 'vales', 'vale', 'valemos', 'valeis', 'valem', 'valia', 'valias', 'valia', 'valíamos', 'valíeis', 'valiam', 'vali', 'valeste', 'valeu', 'valemos', 'valestes', 'valeram', 'valera', 'valeras', 'valera', 'valêramos', 'valêreis', 'valeram', 'valerei', 'valerás', 'valerá', 'valeremos', 'valereis', 'valerão', 'valeria', 'valerias', 'valeria', 'valeríamos', 'valeríeis', 'valeriam', 'valha', 'valhas', 'valha', 'valhamos', 'valhais', 'valham', 'valesse', 'valesses', 'valesse', 'valêssemos', 'valêsseis', 'valessem', 'valer', 'valeres', 'valer', 'valermos', 'valerdes', 'valerem', 'vale', 'valha', 'valhamos', 'valei', 'valham', 'valhas', 'valha', 'valhamos', 'valhais', 'valham', 'valer', 'valeres', 'valer', 'valermos', 'valerdes', 'valerem', 'valendo-o', 'valho-o', 'vale-lo', 'vale-o', 'valemo-lo', 'valei-lo', 'valem-no', 'valia-o', 'valia-lo', 'valia-o', 'valíamo-lo', 'valíei-lo', 'valiam-no', 'vali-o', 'valeste-o', 'valeu-o', 'valemo-lo', 'valeste-lo', 'valeram-no', 'valera-o', 'valera-lo', 'valera-o', 'valêramo-lo', 'valêrei-lo', 'valeram-no', 'valê-lo-ei', 'valê-lo-ás', 'valê-lo-á', 'valê-lo-emos', 'valê-lo-eis', 'valê-lo-ão', 'valê-lo-ia', 'valê-lo-ias', 'valê-lo-ia', 'valê-lo-íamos', 'valê-lo-íeis', 'valê-lo-iam', 'valha', 'valhas', 'valha', 'valhamos', 'valhais', 'valham', 'valesse', 'valesses', 'valesse', 'valêssemos', 'valêsseis', 'valessem', 'valer', 'valeres', 'valer', 'valermos', 'valerdes', 'valerem', 'vale-o', 'valha-o', 'valhamo-lo', 'valei-o', 'valham-no', 'valhas', 'valha', 'valhamos', 'valhais', 'valham', 'valer', 'valeres', 'valer', 'valermos', 'valerdes', 'valerem', 'valendo-se', 'valho-me', 'vales-te', 'vale-se', 'valemo-nos', 'valeis-vos', 'valem-se', 'valia-me', 'valias-te', 'valia-se', 'valíamo-nos', 'valíeis-vos', 'valiam-se', 'vali-me', 'valeste-te', 'valeu-se', 'valemo-nos', 'valestes-vos', 'valeram-se', 'valera-me', 'valeras-te', 'valera-se', 'valêramo-nos', 'valêreis-vos', 'valeram-se', 'valer-me-ei', 'valer-te-ás', 'valer-se-á', 'valer-nos-emos', 'valer-vos-eis', 'valer-se-ão', 'valer-me-ia', 'valer-te-ias', 'valer-se-ia', 'valer-nos-íamos', 'valer-vos-íeis', 'valer-se-iam', 'valha', 'valhas', 'valha', 'valhamos', 'valhais', 'valham', 'valesse', 'valesses', 'valesse', 'valêssemos', 'valêsseis', 'valessem', 'valer', 'valeres', 'valer', 'valermos', 'valerdes', 'valerem', 'vale-te', 'valha-se', 'valhamo-nos', 'valei-vos', 'valham-se', 'valhas', 'valha', 'valhamos', 'valhais', 'valham', 'valer-me', 'valeres-te', 'valer-se', 'valermo-nos', 'valerdes-vos', 'valerem-se']\n"
     ]
    }
   ],
   "source": [
    "conjugacoes=[] # makes a list of the conjugation of one verb\n",
    "for i in verbo_conj:\n",
    "    conj = i.text  # extracts the content of the tag\n",
    "    conjugacoes.append(conj)\n",
    "print(conjugacoes)"
   ]
  },
  {
   "cell_type": "code",
   "execution_count": 16,
   "metadata": {},
   "outputs": [
    {
     "data": {
      "text/plain": [
       "['valendo',\n",
       " 'valido',\n",
       " 'valho',\n",
       " 'vales',\n",
       " 'vale',\n",
       " 'valemos',\n",
       " 'valeis',\n",
       " 'valem',\n",
       " 'valia',\n",
       " 'valias',\n",
       " 'valia',\n",
       " 'valíamos',\n",
       " 'valíeis',\n",
       " 'valiam',\n",
       " 'vali',\n",
       " 'valeste',\n",
       " 'valeu',\n",
       " 'valemos',\n",
       " 'valestes',\n",
       " 'valeram',\n",
       " 'valera',\n",
       " 'valeras',\n",
       " 'valera',\n",
       " 'valêramos',\n",
       " 'valêreis',\n",
       " 'valeram',\n",
       " 'valerei',\n",
       " 'valerás',\n",
       " 'valerá',\n",
       " 'valeremos',\n",
       " 'valereis',\n",
       " 'valerão',\n",
       " 'valeria',\n",
       " 'valerias',\n",
       " 'valeria',\n",
       " 'valeríamos',\n",
       " 'valeríeis',\n",
       " 'valeriam',\n",
       " 'valha',\n",
       " 'valhas',\n",
       " 'valha',\n",
       " 'valhamos',\n",
       " 'valhais',\n",
       " 'valham',\n",
       " 'valesse',\n",
       " 'valesses',\n",
       " 'valesse',\n",
       " 'valêssemos',\n",
       " 'valêsseis',\n",
       " 'valessem',\n",
       " 'valer',\n",
       " 'valeres',\n",
       " 'valer',\n",
       " 'valermos',\n",
       " 'valerdes',\n",
       " 'valerem',\n",
       " 'vale',\n",
       " 'valha',\n",
       " 'valhamos',\n",
       " 'valei',\n",
       " 'valham',\n",
       " 'valhas',\n",
       " 'valha',\n",
       " 'valhamos',\n",
       " 'valhais',\n",
       " 'valham',\n",
       " 'valer',\n",
       " 'valeres',\n",
       " 'valer',\n",
       " 'valermos',\n",
       " 'valerdes',\n",
       " 'valerem',\n",
       " 'valendo-o',\n",
       " 'valho-o',\n",
       " 'vale-lo',\n",
       " 'vale-o',\n",
       " 'valemo-lo',\n",
       " 'valei-lo',\n",
       " 'valem-no',\n",
       " 'valia-o',\n",
       " 'valia-lo',\n",
       " 'valia-o',\n",
       " 'valíamo-lo',\n",
       " 'valíei-lo',\n",
       " 'valiam-no',\n",
       " 'vali-o',\n",
       " 'valeste-o',\n",
       " 'valeu-o',\n",
       " 'valemo-lo',\n",
       " 'valeste-lo',\n",
       " 'valeram-no',\n",
       " 'valera-o',\n",
       " 'valera-lo',\n",
       " 'valera-o',\n",
       " 'valêramo-lo',\n",
       " 'valêrei-lo',\n",
       " 'valeram-no',\n",
       " 'valê-lo-ei',\n",
       " 'valê-lo-ás',\n",
       " 'valê-lo-á',\n",
       " 'valê-lo-emos',\n",
       " 'valê-lo-eis',\n",
       " 'valê-lo-ão',\n",
       " 'valê-lo-ia',\n",
       " 'valê-lo-ias',\n",
       " 'valê-lo-ia',\n",
       " 'valê-lo-íamos',\n",
       " 'valê-lo-íeis',\n",
       " 'valê-lo-iam',\n",
       " 'valha',\n",
       " 'valhas',\n",
       " 'valha',\n",
       " 'valhamos',\n",
       " 'valhais',\n",
       " 'valham',\n",
       " 'valesse',\n",
       " 'valesses',\n",
       " 'valesse',\n",
       " 'valêssemos',\n",
       " 'valêsseis',\n",
       " 'valessem',\n",
       " 'valer',\n",
       " 'valeres',\n",
       " 'valer',\n",
       " 'valermos',\n",
       " 'valerdes',\n",
       " 'valerem',\n",
       " 'vale-o',\n",
       " 'valha-o',\n",
       " 'valhamo-lo',\n",
       " 'valei-o',\n",
       " 'valham-no',\n",
       " 'valhas',\n",
       " 'valha',\n",
       " 'valhamos',\n",
       " 'valhais',\n",
       " 'valham',\n",
       " 'valer',\n",
       " 'valeres',\n",
       " 'valer',\n",
       " 'valermos',\n",
       " 'valerdes',\n",
       " 'valerem',\n",
       " 'valendo-se',\n",
       " 'valho-me',\n",
       " 'vales-te',\n",
       " 'vale-se',\n",
       " 'valemo-nos',\n",
       " 'valeis-vos',\n",
       " 'valem-se',\n",
       " 'valia-me',\n",
       " 'valias-te',\n",
       " 'valia-se',\n",
       " 'valíamo-nos',\n",
       " 'valíeis-vos',\n",
       " 'valiam-se',\n",
       " 'vali-me',\n",
       " 'valeste-te',\n",
       " 'valeu-se',\n",
       " 'valemo-nos',\n",
       " 'valestes-vos',\n",
       " 'valeram-se',\n",
       " 'valera-me',\n",
       " 'valeras-te',\n",
       " 'valera-se',\n",
       " 'valêramo-nos',\n",
       " 'valêreis-vos',\n",
       " 'valeram-se',\n",
       " 'valer-me-ei',\n",
       " 'valer-te-ás',\n",
       " 'valer-se-á',\n",
       " 'valer-nos-emos',\n",
       " 'valer-vos-eis',\n",
       " 'valer-se-ão',\n",
       " 'valer-me-ia',\n",
       " 'valer-te-ias',\n",
       " 'valer-se-ia',\n",
       " 'valer-nos-íamos',\n",
       " 'valer-vos-íeis',\n",
       " 'valer-se-iam',\n",
       " 'valha',\n",
       " 'valhas',\n",
       " 'valha',\n",
       " 'valhamos',\n",
       " 'valhais',\n",
       " 'valham',\n",
       " 'valesse',\n",
       " 'valesses',\n",
       " 'valesse',\n",
       " 'valêssemos',\n",
       " 'valêsseis',\n",
       " 'valessem',\n",
       " 'valer',\n",
       " 'valeres',\n",
       " 'valer',\n",
       " 'valermos',\n",
       " 'valerdes',\n",
       " 'valerem',\n",
       " 'vale-te',\n",
       " 'valha-se',\n",
       " 'valhamo-nos',\n",
       " 'valei-vos',\n",
       " 'valham-se',\n",
       " 'valhas',\n",
       " 'valha',\n",
       " 'valhamos',\n",
       " 'valhais',\n",
       " 'valham',\n",
       " 'valer-me',\n",
       " 'valeres-te',\n",
       " 'valer-se',\n",
       " 'valermo-nos',\n",
       " 'valerdes-vos',\n",
       " 'valerem-se']"
      ]
     },
     "execution_count": 16,
     "metadata": {},
     "output_type": "execute_result"
    }
   ],
   "source": [
    "conjugacoes"
   ]
  },
  {
   "cell_type": "code",
   "execution_count": 17,
   "metadata": {},
   "outputs": [],
   "source": [
    "gerundio = conjugacoes[0]\n",
    "participio = conjugacoes[1]\n",
    "presente_i = conjugacoes[2:8]\n",
    "imperfeito_i = conjugacoes[8:14]\n",
    "perfeito_i = conjugacoes[14:20]\n",
    "mais_que_perf_i = conjugacoes[20:26]\n",
    "fut_pres_i = conjugacoes[26:32]\n",
    "fut_pret_i = conjugacoes[32:38]\n",
    "presente_s = conjugacoes[38:44]\n",
    "pret_imperf_s = conjugacoes[44:50]\n",
    "futuro_s = conjugacoes[50:56]\n"
   ]
  },
  {
   "cell_type": "code",
   "execution_count": 18,
   "metadata": {},
   "outputs": [
    {
     "data": {
      "text/plain": [
       "['valer', 'valeres', 'valer', 'valermos', 'valerdes', 'valerem']"
      ]
     },
     "execution_count": 18,
     "metadata": {},
     "output_type": "execute_result"
    }
   ],
   "source": [
    "futuro_s"
   ]
  },
  {
   "cell_type": "code",
   "execution_count": null,
   "metadata": {},
   "outputs": [],
   "source": []
  },
  {
   "cell_type": "code",
   "execution_count": null,
   "metadata": {},
   "outputs": [],
   "source": []
  }
 ],
 "metadata": {
  "kernelspec": {
   "display_name": "Python 3",
   "language": "python",
   "name": "python3"
  },
  "language_info": {
   "codemirror_mode": {
    "name": "ipython",
    "version": 3
   },
   "file_extension": ".py",
   "mimetype": "text/x-python",
   "name": "python",
   "nbconvert_exporter": "python",
   "pygments_lexer": "ipython3",
   "version": "3.7.1"
  }
 },
 "nbformat": 4,
 "nbformat_minor": 2
}
